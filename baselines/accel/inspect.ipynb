{
 "cells": [
  {
   "cell_type": "code",
   "execution_count": 1,
   "metadata": {},
   "outputs": [],
   "source": [
    "from tsai.models.ResNet import ResNet\n",
    "from torchinfo import summary\n",
    "from lared_laughter.accel.models.cnn import MyAlexNet\n",
    "from lared_laughter.accel.models.resnet import ResNetBodyNoChannelPool, SegmentationHead"
   ]
  },
  {
   "cell_type": "code",
   "execution_count": 2,
   "metadata": {},
   "outputs": [],
   "source": [
    "r = ResNetBodyNoChannelPool(3)\n",
    "s  = SegmentationHead(c_out=1, output_len=45)\n",
    "# a = MyAlexNet()\n",
    "# s= SegmentationResnet(3, 1)"
   ]
  },
  {
   "cell_type": "code",
   "execution_count": 3,
   "metadata": {},
   "outputs": [
    {
     "data": {
      "text/plain": [
       "==========================================================================================\n",
       "Layer (type:depth-idx)                   Output Shape              Param #\n",
       "==========================================================================================\n",
       "ResNetBodyNoChannelPool                  [100, 128, 30]            --\n",
       "├─ResBlock: 1-1                          [100, 64, 30]             --\n",
       "│    └─ConvBlock: 2-1                    [100, 64, 30]             --\n",
       "│    │    └─Conv1d: 3-1                  [100, 64, 30]             1,344\n",
       "│    │    └─BatchNorm1d: 3-2             [100, 64, 30]             128\n",
       "│    │    └─ReLU: 3-3                    [100, 64, 30]             --\n",
       "│    └─ConvBlock: 2-2                    [100, 64, 30]             --\n",
       "│    │    └─Conv1d: 3-4                  [100, 64, 30]             20,480\n",
       "│    │    └─BatchNorm1d: 3-5             [100, 64, 30]             128\n",
       "│    │    └─ReLU: 3-6                    [100, 64, 30]             --\n",
       "│    └─ConvBlock: 2-3                    [100, 64, 30]             --\n",
       "│    │    └─Conv1d: 3-7                  [100, 64, 30]             12,288\n",
       "│    │    └─BatchNorm1d: 3-8             [100, 64, 30]             128\n",
       "│    └─ConvBlock: 2-4                    [100, 64, 30]             --\n",
       "│    │    └─Conv1d: 3-9                  [100, 64, 30]             192\n",
       "│    │    └─BatchNorm1d: 3-10            [100, 64, 30]             128\n",
       "│    └─Add: 2-5                          [100, 64, 30]             --\n",
       "│    └─ReLU: 2-6                         [100, 64, 30]             --\n",
       "├─ResBlock: 1-2                          [100, 128, 30]            --\n",
       "│    └─ConvBlock: 2-7                    [100, 128, 30]            --\n",
       "│    │    └─Conv1d: 3-11                 [100, 128, 30]            57,344\n",
       "│    │    └─BatchNorm1d: 3-12            [100, 128, 30]            256\n",
       "│    │    └─ReLU: 3-13                   [100, 128, 30]            --\n",
       "│    └─ConvBlock: 2-8                    [100, 128, 30]            --\n",
       "│    │    └─Conv1d: 3-14                 [100, 128, 30]            81,920\n",
       "│    │    └─BatchNorm1d: 3-15            [100, 128, 30]            256\n",
       "│    │    └─ReLU: 3-16                   [100, 128, 30]            --\n",
       "│    └─ConvBlock: 2-9                    [100, 128, 30]            --\n",
       "│    │    └─Conv1d: 3-17                 [100, 128, 30]            49,152\n",
       "│    │    └─BatchNorm1d: 3-18            [100, 128, 30]            256\n",
       "│    └─ConvBlock: 2-10                   [100, 128, 30]            --\n",
       "│    │    └─Conv1d: 3-19                 [100, 128, 30]            8,192\n",
       "│    │    └─BatchNorm1d: 3-20            [100, 128, 30]            256\n",
       "│    └─Add: 2-11                         [100, 128, 30]            --\n",
       "│    └─ReLU: 2-12                        [100, 128, 30]            --\n",
       "├─ResBlock: 1-3                          [100, 128, 30]            --\n",
       "│    └─ConvBlock: 2-13                   [100, 128, 30]            --\n",
       "│    │    └─Conv1d: 3-21                 [100, 128, 30]            114,688\n",
       "│    │    └─BatchNorm1d: 3-22            [100, 128, 30]            256\n",
       "│    │    └─ReLU: 3-23                   [100, 128, 30]            --\n",
       "│    └─ConvBlock: 2-14                   [100, 128, 30]            --\n",
       "│    │    └─Conv1d: 3-24                 [100, 128, 30]            81,920\n",
       "│    │    └─BatchNorm1d: 3-25            [100, 128, 30]            256\n",
       "│    │    └─ReLU: 3-26                   [100, 128, 30]            --\n",
       "│    └─ConvBlock: 2-15                   [100, 128, 30]            --\n",
       "│    │    └─Conv1d: 3-27                 [100, 128, 30]            49,152\n",
       "│    │    └─BatchNorm1d: 3-28            [100, 128, 30]            256\n",
       "│    └─BatchNorm1d: 2-16                 [100, 128, 30]            256\n",
       "│    └─Add: 2-17                         [100, 128, 30]            --\n",
       "│    └─ReLU: 2-18                        [100, 128, 30]            --\n",
       "==========================================================================================\n",
       "Total params: 479,232\n",
       "Trainable params: 479,232\n",
       "Non-trainable params: 0\n",
       "Total mult-adds (G): 1.43\n",
       "==========================================================================================\n",
       "Input size (MB): 0.04\n",
       "Forward/backward pass size (MB): 58.37\n",
       "Params size (MB): 1.92\n",
       "Estimated Total Size (MB): 60.32\n",
       "=========================================================================================="
      ]
     },
     "execution_count": 3,
     "metadata": {},
     "output_type": "execute_result"
    }
   ],
   "source": [
    "summary(r, input_size=(100, 3, 30), device='cpu')"
   ]
  },
  {
   "cell_type": "code",
   "execution_count": 4,
   "metadata": {},
   "outputs": [
    {
     "name": "stderr",
     "output_type": "stream",
     "text": [
      "/home/jose/miniconda3/lib/python3.8/site-packages/torch/nn/functional.py:3631: UserWarning: Default upsampling behavior when mode=linear is changed to align_corners=False since 0.4.0. Please specify align_corners=True if the old behavior is desired. See the documentation of nn.Upsample for details.\n",
      "  warnings.warn(\n"
     ]
    },
    {
     "data": {
      "text/plain": [
       "==========================================================================================\n",
       "Layer (type:depth-idx)                   Output Shape              Param #\n",
       "==========================================================================================\n",
       "SegmentationHead                         [100, 45]                 --\n",
       "├─ConvBlock: 1-1                         [100, 64, 30]             --\n",
       "│    └─Conv1d: 2-1                       [100, 64, 30]             24,576\n",
       "│    └─BatchNorm1d: 2-2                  [100, 64, 30]             128\n",
       "│    └─ReLU: 2-3                         [100, 64, 30]             --\n",
       "├─ConvBlock: 1-2                         [100, 64, 30]             --\n",
       "│    └─Conv1d: 2-4                       [100, 64, 30]             12,288\n",
       "│    └─BatchNorm1d: 2-5                  [100, 64, 30]             128\n",
       "│    └─ReLU: 2-6                         [100, 64, 30]             --\n",
       "├─ConvBlock: 1-3                         [100, 1, 30]              --\n",
       "│    └─Conv1d: 2-7                       [100, 1, 30]              192\n",
       "│    └─BatchNorm1d: 2-8                  [100, 1, 30]              2\n",
       "├─Sequential: 1-4                        [100, 1, 45]              --\n",
       "│    └─Flatten: 2-9                      [100, 1, 30]              --\n",
       "│    └─Upsample: 2-10                    [100, 1, 45]              --\n",
       "==========================================================================================\n",
       "Total params: 37,314\n",
       "Trainable params: 37,314\n",
       "Non-trainable params: 0\n",
       "Total mult-adds (M): 111.19\n",
       "==========================================================================================\n",
       "Input size (MB): 1.54\n",
       "Forward/backward pass size (MB): 6.19\n",
       "Params size (MB): 0.15\n",
       "Estimated Total Size (MB): 7.88\n",
       "=========================================================================================="
      ]
     },
     "execution_count": 4,
     "metadata": {},
     "output_type": "execute_result"
    }
   ],
   "source": [
    "summary(s, input_size=(100, 128, 30), device='cpu')"
   ]
  },
  {
   "cell_type": "code",
   "execution_count": null,
   "metadata": {},
   "outputs": [],
   "source": []
  }
 ],
 "metadata": {
  "kernelspec": {
   "display_name": "Python 3.8.13 ('base')",
   "language": "python",
   "name": "python3"
  },
  "language_info": {
   "codemirror_mode": {
    "name": "ipython",
    "version": 3
   },
   "file_extension": ".py",
   "mimetype": "text/x-python",
   "name": "python",
   "nbconvert_exporter": "python",
   "pygments_lexer": "ipython3",
   "version": "3.8.13"
  },
  "orig_nbformat": 4,
  "vscode": {
   "interpreter": {
    "hash": "7ff63645dd16f55240e07095d3c46f4fac3f89ef16802cfaceca713f6cf38dfb"
   }
  }
 },
 "nbformat": 4,
 "nbformat_minor": 2
}
