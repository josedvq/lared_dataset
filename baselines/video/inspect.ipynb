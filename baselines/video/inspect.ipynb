{
 "cells": [
  {
   "cell_type": "code",
   "execution_count": 1,
   "metadata": {},
   "outputs": [],
   "source": [
    "import os\n",
    "import torch\n",
    "import pickle\n",
    "\n",
    "from torchinfo import summary"
   ]
  },
  {
   "cell_type": "code",
   "execution_count": 2,
   "metadata": {},
   "outputs": [],
   "source": [
    "from models import (\n",
    "    make_slow_pretrained_body,\n",
    "    make_slow_pretrained_classifier,\n",
    "    make_slow_pretrained_segmenter,\n",
    "    SegmentationHead)\n",
    "from lared_laughter.constants import models_path"
   ]
  },
  {
   "cell_type": "code",
   "execution_count": 3,
   "metadata": {},
   "outputs": [
    {
     "name": "stdout",
     "output_type": "stream",
     "text": [
      "loaded pre-trained model\n",
      "missing keys []\n",
      "unexpected keys ['model.blocks.5.proj.weight', 'model.blocks.5.proj.bias']\n"
     ]
    }
   ],
   "source": [
    "b = make_slow_pretrained_body()\n",
    "s = SegmentationHead(output_len=45)"
   ]
  },
  {
   "cell_type": "code",
   "execution_count": 4,
   "metadata": {},
   "outputs": [],
   "source": [
    "input = [\n",
    "    torch.rand((8, 3, 8, 256, 256)), # slow\n",
    "    torch.rand((8, 3, 32, 256, 256)) # fast\n",
    "]"
   ]
  },
  {
   "cell_type": "code",
   "execution_count": 6,
   "metadata": {},
   "outputs": [
    {
     "data": {
      "text/plain": [
       "=========================================================================================================\n",
       "Layer (type:depth-idx)                                  Output Shape              Param #\n",
       "=========================================================================================================\n",
       "PTVResNet                                               [16, 2048, 1, 2, 2]       --\n",
       "├─AvgPool3d: 1-3                                        [16, 2048, 1, 2, 2]       --\n",
       "├─Net: 1-2                                              [16, 2048, 8, 8, 8]       --\n",
       "│    └─ModuleList: 2-1                                  --                        --\n",
       "│    │    └─ResNetBasicStem: 3-1                        [16, 64, 8, 64, 64]       --\n",
       "│    │    │    └─Conv3d: 4-1                            [16, 64, 8, 128, 128]     (9,408)\n",
       "│    │    │    └─BatchNorm3d: 4-2                       [16, 64, 8, 128, 128]     (128)\n",
       "│    │    │    └─ReLU: 4-3                              [16, 64, 8, 128, 128]     --\n",
       "│    │    │    └─MaxPool3d: 4-4                         [16, 64, 8, 64, 64]       --\n",
       "│    │    └─ResStage: 3-2                               [16, 256, 8, 64, 64]      --\n",
       "│    │    │    └─ModuleList: 4                          --                        --\n",
       "│    │    │    │    └─ResBlock: 5-1                     [16, 256, 8, 64, 64]      (75,008)\n",
       "│    │    │    │    └─ResBlock: 5-2                     [16, 256, 8, 64, 64]      (70,400)\n",
       "│    │    │    │    └─ResBlock: 5-3                     [16, 256, 8, 64, 64]      (70,400)\n",
       "│    │    └─ResStage: 3-3                               [16, 512, 8, 32, 32]      --\n",
       "│    │    │    └─ModuleList: 4                          --                        --\n",
       "│    │    │    │    └─ResBlock: 5-4                     [16, 512, 8, 32, 32]      (379,392)\n",
       "│    │    │    │    └─ResBlock: 5-5                     [16, 512, 8, 32, 32]      (280,064)\n",
       "│    │    │    │    └─ResBlock: 5-6                     [16, 512, 8, 32, 32]      (280,064)\n",
       "│    │    │    │    └─ResBlock: 5-7                     [16, 512, 8, 32, 32]      (280,064)\n",
       "│    │    └─ResStage: 3-4                               [16, 1024, 8, 16, 16]     --\n",
       "│    │    │    └─ModuleList: 4                          --                        --\n",
       "│    │    │    │    └─ResBlock: 5-8                     [16, 1024, 8, 16, 16]     (1,774,592)\n",
       "│    │    │    │    └─ResBlock: 5-9                     [16, 1024, 8, 16, 16]     (1,641,472)\n",
       "│    │    │    │    └─ResBlock: 5-10                    [16, 1024, 8, 16, 16]     (1,641,472)\n",
       "│    │    │    │    └─ResBlock: 5-11                    [16, 1024, 8, 16, 16]     (1,641,472)\n",
       "│    │    │    │    └─ResBlock: 5-12                    [16, 1024, 8, 16, 16]     (1,641,472)\n",
       "│    │    │    │    └─ResBlock: 5-13                    [16, 1024, 8, 16, 16]     (1,641,472)\n",
       "│    │    └─ResStage: 3-5                               [16, 2048, 8, 8, 8]       --\n",
       "│    │    │    └─ModuleList: 4                          --                        --\n",
       "│    │    │    │    └─ResBlock: 5-14                    [16, 2048, 8, 8, 8]       (7,088,128)\n",
       "│    │    │    │    └─ResBlock: 5-15                    [16, 2048, 8, 8, 8]       (6,559,744)\n",
       "│    │    │    │    └─ResBlock: 5-16                    [16, 2048, 8, 8, 8]       (6,559,744)\n",
       "├─AvgPool3d: 1-3                                        [16, 2048, 1, 2, 2]       --\n",
       "=========================================================================================================\n",
       "Total params: 31,634,496\n",
       "Trainable params: 0\n",
       "Non-trainable params: 31,634,496\n",
       "Total mult-adds (G): 872.28\n",
       "=========================================================================================================\n",
       "Input size (MB): 100.66\n",
       "Forward/backward pass size (MB): 29729.23\n",
       "Params size (MB): 126.54\n",
       "Estimated Total Size (MB): 29956.43\n",
       "========================================================================================================="
      ]
     },
     "execution_count": 6,
     "metadata": {},
     "output_type": "execute_result"
    }
   ],
   "source": [
    "# summary(pretrained, input_data=input, device='cuda', depth=5)\n",
    "summary(b, input_size=(16, 3, 8, 256, 256), device='cuda', depth=5)"
   ]
  },
  {
   "cell_type": "code",
   "execution_count": 8,
   "metadata": {},
   "outputs": [
    {
     "name": "stderr",
     "output_type": "stream",
     "text": [
      "/home/jose/miniconda3/lib/python3.8/site-packages/torch/nn/functional.py:3631: UserWarning: Default upsampling behavior when mode=linear is changed to align_corners=False since 0.4.0. Please specify align_corners=True if the old behavior is desired. See the documentation of nn.Upsample for details.\n",
      "  warnings.warn(\n"
     ]
    },
    {
     "data": {
      "text/plain": [
       "==========================================================================================\n",
       "Layer (type:depth-idx)                   Output Shape              Param #\n",
       "==========================================================================================\n",
       "SegmentationHead                         [16, 45]                  --\n",
       "├─Sequential: 1-1                        [16, 1, 8, 1, 1]          --\n",
       "│    └─AvgPool3d: 2-1                    [16, 2048, 8, 1, 1]       --\n",
       "│    └─Conv3d: 2-2                       [16, 1, 8, 1, 1]          6,145\n",
       "├─Sequential: 1-2                        [16, 1, 45]               --\n",
       "│    └─Flatten: 2-3                      [16, 1, 8]                --\n",
       "│    └─Upsample: 2-4                     [16, 1, 45]               --\n",
       "==========================================================================================\n",
       "Total params: 6,145\n",
       "Trainable params: 6,145\n",
       "Non-trainable params: 0\n",
       "Total mult-adds (M): 0.79\n",
       "==========================================================================================\n",
       "Input size (MB): 67.11\n",
       "Forward/backward pass size (MB): 0.00\n",
       "Params size (MB): 0.02\n",
       "Estimated Total Size (MB): 67.13\n",
       "=========================================================================================="
      ]
     },
     "execution_count": 8,
     "metadata": {},
     "output_type": "execute_result"
    }
   ],
   "source": [
    "summary(s, input_size=(16, 2048, 8, 8, 8), device='cuda', depth=5)"
   ]
  },
  {
   "cell_type": "code",
   "execution_count": null,
   "metadata": {},
   "outputs": [],
   "source": []
  }
 ],
 "metadata": {
  "interpreter": {
   "hash": "7ff63645dd16f55240e07095d3c46f4fac3f89ef16802cfaceca713f6cf38dfb"
  },
  "kernelspec": {
   "display_name": "Python 3.8.13 ('base')",
   "language": "python",
   "name": "python3"
  },
  "language_info": {
   "codemirror_mode": {
    "name": "ipython",
    "version": 3
   },
   "file_extension": ".py",
   "mimetype": "text/x-python",
   "name": "python",
   "nbconvert_exporter": "python",
   "pygments_lexer": "ipython3",
   "version": "3.8.13"
  },
  "orig_nbformat": 4
 },
 "nbformat": 4,
 "nbformat_minor": 2
}
