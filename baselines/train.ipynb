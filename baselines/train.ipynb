{
 "cells": [
  {
   "cell_type": "code",
   "execution_count": 1,
   "metadata": {},
   "outputs": [],
   "source": [
    "%load_ext autoreload\n",
    "%autoreload 2"
   ]
  },
  {
   "cell_type": "code",
   "execution_count": 2,
   "metadata": {},
   "outputs": [],
   "source": [
    "import os\n",
    "import sys\n",
    "import logging\n",
    "import pickle\n",
    "import traceback"
   ]
  },
  {
   "cell_type": "code",
   "execution_count": 3,
   "metadata": {},
   "outputs": [],
   "source": [
    "import torch\n",
    "\n",
    "import numpy as np\n",
    "import pandas as pd\n",
    "from sklearn.model_selection import KFold, GroupKFold\n",
    "from IPython.display import clear_output\n",
    "import pytorch_lightning as pl\n",
    "logging.getLogger(\"pytorch_lightning\").setLevel(logging.WARNING)\n",
    "# set the cudnn\n",
    "torch.backends.cudnn.benchmark=False\n",
    "torch.backends.cudnn.deterministic=True"
   ]
  },
  {
   "cell_type": "code",
   "execution_count": 4,
   "metadata": {},
   "outputs": [],
   "source": [
    "from lared_dataset.data_loading.dataset import FatherDataset, FatherDatasetSubset\n",
    "from lared_dataset.data_loading.extractors import VideoExtractor, AccelExtractor\n",
    "from lared_dataset.baselines.video.models import make_slow_pretrained_body as get_video_feature_extractor\n",
    "from lared_dataset.baselines.video.transforms import get_kinetics_val_transform\n",
    "from lared_dataset.constants import (\n",
    "    processed_data_path, \n",
    "    processed_accel_path,\n",
    "    processed_videos_path,\n",
    "    examples_path)\n",
    "from lared_dataset.baselines.train import System, train, test"
   ]
  },
  {
   "cell_type": "code",
   "execution_count": 5,
   "metadata": {},
   "outputs": [],
   "source": [
    "def do_cross_validation(do_train, ds, input_modalities, seed, prefix=None, deterministic=False):\n",
    "    \n",
    "    cv_splits = list(GroupKFold(n_splits=3).split(range(len(ds)), groups=ds.get_groups()))\n",
    "    \n",
    "    all_results = []\n",
    "    for f, (train_idx, test_idx) in enumerate(cv_splits):\n",
    "        if f == 0 or f == 1:\n",
    "            continue\n",
    "        # load feature caches for fold f\n",
    "        train_ds = FatherDatasetSubset(ds, train_idx, eval=False)\n",
    "        test_ds = FatherDatasetSubset(ds, test_idx, eval=True)\n",
    "\n",
    "        weights_path = os.path.join(\n",
    "            'weights',\n",
    "            f'I{\"-\".join(input_modalities)}_fold{f}.ckpt'\n",
    "        )\n",
    "\n",
    "        pl.utilities.seed.seed_everything(seed+f+734890573)\n",
    "        if do_train:\n",
    "            trainer = train(f, train_ds, test_ds, input_modalities,\n",
    "                prefix = prefix + f'_fold{f}' if prefix else None,\n",
    "                eval_every_epoch=True,\n",
    "                deterministic=deterministic,\n",
    "                weights_path=weights_path)\n",
    "            model = trainer.model\n",
    "        else:\n",
    "            model = System.load_from_checkpoint(checkpoint_path=weights_path)\n",
    "\n",
    "        # ensures that the testing is reproducible regardless of training\n",
    "        pl.utilities.seed.seed_everything(seed+f+2980374334)\n",
    "        fold_outputs = test(f, model, test_ds, prefix = prefix + f'_fold{f}' if prefix else None,)\n",
    "        all_results.append(fold_outputs)\n",
    "        clear_output(wait=False)\n",
    "\n",
    "    outputs = [r['proba'].numpy() for r in all_results]\n",
    "    indices = [r['index'].numpy() for r in all_results]\n",
    "    metrics = [r['metric'] for r in all_results]\n",
    "    return metrics, outputs, indices"
   ]
  },
  {
   "cell_type": "code",
   "execution_count": 6,
   "metadata": {},
   "outputs": [],
   "source": [
    "def do_run(examples, input_modalities, \n",
    "    do_train=True, deterministic=True, prefix=''):\n",
    "    ''' train = True will train the models, and requires \n",
    "            model_label_modality = test_label_modality\n",
    "        train = False will load weights to test the models and does not require\n",
    "            model_label_modality = test_label_modality\n",
    "    '''\n",
    "    print(f'Using {len(examples)} examples')\n",
    "\n",
    "    # create the feature datasets\n",
    "    extractors = {}\n",
    "    if 'video' in input_modalities:\n",
    "        videos_path = os.path.join(processed_videos_path, 'examples')\n",
    "        extractors['video'] = VideoExtractor(videos_path, transform=get_kinetics_val_transform(8, 256, False))\n",
    "\n",
    "    if 'accel' in input_modalities:\n",
    "        accel_ds_path = os.path.join(processed_accel_path, 'subj_accel_interp.pkl')\n",
    "        extractors['accel'] = AccelExtractor(accel_ds_path)\n",
    "\n",
    "    ds = FatherDataset(examples, extractors)\n",
    "\n",
    "    seed = 22    \n",
    "    metrics, probas, indices = do_cross_validation(\n",
    "        do_train,\n",
    "        ds,\n",
    "        input_modalities=input_modalities,\n",
    "        deterministic=deterministic,\n",
    "        seed=seed,\n",
    "        prefix=f'{prefix}I{\"-\".join(input_modalities)}')\n",
    "\n",
    "    torch.cuda.empty_cache()\n",
    "\n",
    "    return {\n",
    "        'metrics': metrics,\n",
    "        'probas': probas,\n",
    "        'indices': indices,\n",
    "        'seed': seed\n",
    "    }"
   ]
  },
  {
   "cell_type": "code",
   "execution_count": 7,
   "metadata": {},
   "outputs": [],
   "source": [
    "def get_table(do_train=True, deterministic=True):\n",
    "    examples = pickle.load(open(examples_path, 'rb'))\n",
    "\n",
    "    all_input_modalities = [\n",
    "        ('video',),\n",
    "        # ('pose',),\n",
    "        # ('accel',),\n",
    "    ]    \n",
    "\n",
    "    res = {}\n",
    "    for input_modalities in all_input_modalities:\n",
    "\n",
    "        run_results = do_run(\n",
    "            examples, \n",
    "            input_modalities, \n",
    "            do_train=do_train,\n",
    "            deterministic=deterministic)\n",
    "\n",
    "        res['-'.join(input_modalities)] = run_results\n",
    "    return res"
   ]
  },
  {
   "cell_type": "code",
   "execution_count": 8,
   "metadata": {},
   "outputs": [
    {
     "name": "stdout",
     "output_type": "stream",
     "text": [
      "loaded pre-trained model\n",
      "missing keys []\n",
      "unexpected keys ['model.blocks.5.proj.weight', 'model.blocks.5.proj.bias']\n"
     ]
    },
    {
     "data": {
      "application/vnd.jupyter.widget-view+json": {
       "model_id": "cca82083a3a845258bb8189749909acd",
       "version_major": 2,
       "version_minor": 0
      },
      "text/plain": [
       "Sanity Checking: 0it [00:00, ?it/s]"
      ]
     },
     "metadata": {},
     "output_type": "display_data"
    },
    {
     "name": "stderr",
     "output_type": "stream",
     "text": [
      "/home/jose/miniconda3/lib/python3.8/site-packages/torch/nn/functional.py:3631: UserWarning: Default upsampling behavior when mode=linear is changed to align_corners=False since 0.4.0. Please specify align_corners=True if the old behavior is desired. See the documentation of nn.Upsample for details.\n",
      "  warnings.warn(\n"
     ]
    },
    {
     "data": {
      "application/vnd.jupyter.widget-view+json": {
       "model_id": "abdb598abf94480e995c16b5fdef8963",
       "version_major": 2,
       "version_minor": 0
      },
      "text/plain": [
       "Training: 0it [00:00, ?it/s]"
      ]
     },
     "metadata": {},
     "output_type": "display_data"
    },
    {
     "name": "stderr",
     "output_type": "stream",
     "text": [
      "/home/jose/miniconda3/lib/python3.8/site-packages/torch/nn/functional.py:3631: UserWarning: Default upsampling behavior when mode=linear is changed to align_corners=False since 0.4.0. Please specify align_corners=True if the old behavior is desired. See the documentation of nn.Upsample for details.\n",
      "  warnings.warn(\n",
      "ERROR: Unexpected segmentation fault encountered in worker.\n",
      "\u0000ERROR: Unexpected segmentation fault encountered in worker.\n",
      "\u0000ERROR: Unexpected segmentation fault encountered in worker.\n",
      "\u0000ERROR: Unexpected segmentation fault encountered in worker.\n",
      "\u0000ERROR: Unexpected segmentation fault encountered in worker.\n",
      "\u0000ERROR: Unexpected segmentation fault encountered in worker.\n",
      "\u0000ERROR: Unexpected segmentation fault encountered in worker.\n",
      "\u0000ERROR: Unexpected segmentation fault encountered in worker.\n",
      "\u0000"
     ]
    },
    {
     "name": "stdout",
     "output_type": "stream",
     "text": [
      "Traceback (most recent call last):\n",
      "  File \"/home/jose/miniconda3/lib/python3.8/site-packages/torch/utils/data/dataloader.py\", line 990, in _try_get_data\n",
      "    data = self._data_queue.get(timeout=timeout)\n",
      "  File \"/home/jose/miniconda3/lib/python3.8/multiprocessing/queues.py\", line 108, in get\n",
      "    raise Empty\n",
      "_queue.Empty\n",
      "\n",
      "The above exception was the direct cause of the following exception:\n",
      "\n",
      "Traceback (most recent call last):\n",
      "  File \"/tmp/ipykernel_6671/2614119387.py\", line 2, in <cell line: 1>\n",
      "    res = get_table(do_train=True, deterministic=False)\n",
      "  File \"/tmp/ipykernel_6671/699160241.py\", line 13, in get_table\n",
      "    run_results = do_run(\n",
      "  File \"/tmp/ipykernel_6671/2101795960.py\", line 23, in do_run\n",
      "    metrics, probas, indices = do_cross_validation(\n",
      "  File \"/tmp/ipykernel_6671/280939569.py\", line 20, in do_cross_validation\n",
      "    trainer = train(f, train_ds, test_ds, input_modalities,\n",
      "  File \"/mnt/c/Users/Jose/Documents/furnace/lared_dataset/baselines/train.py\", line 135, in train\n",
      "    trainer.fit(system, data_loader_train, data_loader_val)\n",
      "  File \"/home/jose/miniconda3/lib/python3.8/site-packages/pytorch_lightning/trainer/trainer.py\", line 696, in fit\n",
      "    self._call_and_handle_interrupt(\n",
      "  File \"/home/jose/miniconda3/lib/python3.8/site-packages/pytorch_lightning/trainer/trainer.py\", line 650, in _call_and_handle_interrupt\n",
      "    return trainer_fn(*args, **kwargs)\n",
      "  File \"/home/jose/miniconda3/lib/python3.8/site-packages/pytorch_lightning/trainer/trainer.py\", line 735, in _fit_impl\n",
      "    results = self._run(model, ckpt_path=self.ckpt_path)\n",
      "  File \"/home/jose/miniconda3/lib/python3.8/site-packages/pytorch_lightning/trainer/trainer.py\", line 1166, in _run\n",
      "    results = self._run_stage()\n",
      "  File \"/home/jose/miniconda3/lib/python3.8/site-packages/pytorch_lightning/trainer/trainer.py\", line 1252, in _run_stage\n",
      "    return self._run_train()\n",
      "  File \"/home/jose/miniconda3/lib/python3.8/site-packages/pytorch_lightning/trainer/trainer.py\", line 1283, in _run_train\n",
      "    self.fit_loop.run()\n",
      "  File \"/home/jose/miniconda3/lib/python3.8/site-packages/pytorch_lightning/loops/loop.py\", line 200, in run\n",
      "    self.advance(*args, **kwargs)\n",
      "  File \"/home/jose/miniconda3/lib/python3.8/site-packages/pytorch_lightning/loops/fit_loop.py\", line 271, in advance\n",
      "    self._outputs = self.epoch_loop.run(self._data_fetcher)\n",
      "  File \"/home/jose/miniconda3/lib/python3.8/site-packages/pytorch_lightning/loops/loop.py\", line 200, in run\n",
      "    self.advance(*args, **kwargs)\n",
      "  File \"/home/jose/miniconda3/lib/python3.8/site-packages/pytorch_lightning/loops/epoch/training_epoch_loop.py\", line 174, in advance\n",
      "    batch = next(data_fetcher)\n",
      "  File \"/home/jose/miniconda3/lib/python3.8/site-packages/pytorch_lightning/utilities/fetching.py\", line 184, in __next__\n",
      "    return self.fetching_function()\n",
      "  File \"/home/jose/miniconda3/lib/python3.8/site-packages/pytorch_lightning/utilities/fetching.py\", line 263, in fetching_function\n",
      "    self._fetch_next_batch(self.dataloader_iter)\n",
      "  File \"/home/jose/miniconda3/lib/python3.8/site-packages/pytorch_lightning/utilities/fetching.py\", line 277, in _fetch_next_batch\n",
      "    batch = next(iterator)\n",
      "  File \"/home/jose/miniconda3/lib/python3.8/site-packages/pytorch_lightning/trainer/supporters.py\", line 557, in __next__\n",
      "    return self.request_next_batch(self.loader_iters)\n",
      "  File \"/home/jose/miniconda3/lib/python3.8/site-packages/pytorch_lightning/trainer/supporters.py\", line 569, in request_next_batch\n",
      "    return apply_to_collection(loader_iters, Iterator, next)\n",
      "  File \"/home/jose/miniconda3/lib/python3.8/site-packages/pytorch_lightning/utilities/apply_func.py\", line 99, in apply_to_collection\n",
      "    return function(data, *args, **kwargs)\n",
      "  File \"/home/jose/miniconda3/lib/python3.8/site-packages/torch/utils/data/dataloader.py\", line 521, in __next__\n",
      "    data = self._next_data()\n",
      "  File \"/home/jose/miniconda3/lib/python3.8/site-packages/torch/utils/data/dataloader.py\", line 1186, in _next_data\n",
      "    idx, data = self._get_data()\n",
      "  File \"/home/jose/miniconda3/lib/python3.8/site-packages/torch/utils/data/dataloader.py\", line 1152, in _get_data\n",
      "    success, data = self._try_get_data()\n",
      "  File \"/home/jose/miniconda3/lib/python3.8/site-packages/torch/utils/data/dataloader.py\", line 1003, in _try_get_data\n",
      "    raise RuntimeError('DataLoader worker (pid(s) {}) exited unexpectedly'.format(pids_str)) from e\n",
      "RuntimeError: DataLoader worker (pid(s) 4203, 4248, 4370, 4448, 4492, 4647, 4715, 4793) exited unexpectedly\n",
      "\n"
     ]
    }
   ],
   "source": [
    "try:\n",
    "    res = get_table(do_train=True, deterministic=False)\n",
    "except Exception:\n",
    "    print(traceback.format_exc())"
   ]
  },
  {
   "cell_type": "code",
   "execution_count": null,
   "metadata": {},
   "outputs": [],
   "source": []
  },
  {
   "cell_type": "code",
   "execution_count": null,
   "metadata": {},
   "outputs": [],
   "source": []
  },
  {
   "cell_type": "code",
   "execution_count": null,
   "metadata": {},
   "outputs": [],
   "source": []
  },
  {
   "cell_type": "code",
   "execution_count": null,
   "metadata": {},
   "outputs": [],
   "source": []
  },
  {
   "cell_type": "code",
   "execution_count": null,
   "metadata": {},
   "outputs": [],
   "source": []
  },
  {
   "cell_type": "code",
   "execution_count": null,
   "metadata": {},
   "outputs": [],
   "source": []
  },
  {
   "cell_type": "code",
   "execution_count": null,
   "metadata": {},
   "outputs": [],
   "source": []
  },
  {
   "cell_type": "code",
   "execution_count": null,
   "metadata": {},
   "outputs": [],
   "source": []
  },
  {
   "cell_type": "code",
   "execution_count": null,
   "metadata": {},
   "outputs": [],
   "source": []
  },
  {
   "cell_type": "code",
   "execution_count": null,
   "metadata": {},
   "outputs": [],
   "source": []
  },
  {
   "cell_type": "code",
   "execution_count": null,
   "metadata": {},
   "outputs": [],
   "source": []
  },
  {
   "cell_type": "code",
   "execution_count": null,
   "metadata": {},
   "outputs": [],
   "source": []
  },
  {
   "cell_type": "code",
   "execution_count": null,
   "metadata": {},
   "outputs": [],
   "source": []
  }
 ],
 "metadata": {
  "kernelspec": {
   "display_name": "Python 3.8.13 ('base')",
   "language": "python",
   "name": "python3"
  },
  "language_info": {
   "codemirror_mode": {
    "name": "ipython",
    "version": 3
   },
   "file_extension": ".py",
   "mimetype": "text/x-python",
   "name": "python",
   "nbconvert_exporter": "python",
   "pygments_lexer": "ipython3",
   "version": "3.8.13"
  },
  "orig_nbformat": 4,
  "vscode": {
   "interpreter": {
    "hash": "7ff63645dd16f55240e07095d3c46f4fac3f89ef16802cfaceca713f6cf38dfb"
   }
  }
 },
 "nbformat": 4,
 "nbformat_minor": 2
}
