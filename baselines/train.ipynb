{
 "cells": [
  {
   "cell_type": "code",
   "execution_count": 1,
   "metadata": {},
   "outputs": [],
   "source": [
    "%load_ext autoreload\n",
    "%autoreload 2"
   ]
  },
  {
   "cell_type": "code",
   "execution_count": 2,
   "metadata": {},
   "outputs": [],
   "source": [
    "import os\n",
    "import sys\n",
    "sys.path.append('/home/josedvq/furnace')\n",
    "sys.path.append('/home/josedvq/furnace/slowfast')\n",
    "import logging\n",
    "import pickle\n",
    "import traceback"
   ]
  },
  {
   "cell_type": "code",
   "execution_count": 3,
   "metadata": {},
   "outputs": [
    {
     "name": "stderr",
     "output_type": "stream",
     "text": [
      "/home/josedvq/.virtualenvs/lared/lib/python3.8/site-packages/tqdm/auto.py:22: TqdmWarning: IProgress not found. Please update jupyter and ipywidgets. See https://ipywidgets.readthedocs.io/en/stable/user_install.html\n",
      "  from .autonotebook import tqdm as notebook_tqdm\n"
     ]
    }
   ],
   "source": [
    "import torch\n",
    "\n",
    "import numpy as np\n",
    "import pandas as pd\n",
    "from sklearn.model_selection import KFold, GroupKFold\n",
    "from IPython.display import clear_output\n",
    "import pytorch_lightning as pl\n",
    "logging.getLogger(\"pytorch_lightning\").setLevel(logging.WARNING)\n",
    "# set the cudnn\n",
    "torch.backends.cudnn.benchmark=False\n",
    "torch.backends.cudnn.deterministic=True"
   ]
  },
  {
   "cell_type": "code",
   "execution_count": 4,
   "metadata": {},
   "outputs": [
    {
     "name": "stderr",
     "output_type": "stream",
     "text": [
      "/home/josedvq/.virtualenvs/lared/lib/python3.8/site-packages/torchvision/transforms/_functional_video.py:6: UserWarning: The 'torchvision.transforms._functional_video' module is deprecated since 0.12 and will be removed in the future. Please use the 'torchvision.transforms.functional' module instead.\n",
      "  warnings.warn(\n",
      "/home/josedvq/.virtualenvs/lared/lib/python3.8/site-packages/torchvision/transforms/_transforms_video.py:22: UserWarning: The 'torchvision.transforms._transforms_video' module is deprecated since 0.12 and will be removed in the future. Please use the 'torchvision.transforms' module instead.\n",
      "  warnings.warn(\n"
     ]
    }
   ],
   "source": [
    "from lared_dataset.data_loading.dataset import FatherDataset, FatherDatasetSubset, RemoveConfidence\n",
    "from lared_dataset.data_loading.extractors import VideoExtractor, AccelExtractor\n",
    "from lared_dataset.baselines.video.models import make_slow_pretrained_body as get_video_feature_extractor\n",
    "from lared_dataset.baselines.video.transforms import get_kinetics_val_transform\n",
    "from lared_dataset.constants import (\n",
    "    processed_data_path, \n",
    "    processed_accel_path,\n",
    "    processed_videos_path,\n",
    "    examples_path)\n",
    "from lared_dataset.baselines.train import System, train, test"
   ]
  },
  {
   "cell_type": "code",
   "execution_count": 5,
   "metadata": {},
   "outputs": [],
   "source": [
    "def do_cross_validation(do_train, ds, input_modalities, seed, prefix=None, deterministic=False):\n",
    "    \n",
    "    cv_splits = list(GroupKFold(n_splits=3).split(range(len(ds)), groups=ds.get_groups()))\n",
    "    \n",
    "    all_results = []\n",
    "    for f, (train_idx, test_idx) in enumerate(cv_splits):\n",
    "        if f == 0 or f == 1:\n",
    "            continue\n",
    "        # load feature caches for fold f\n",
    "        train_ds = FatherDatasetSubset(ds, train_idx, eval=False)\n",
    "        test_ds = FatherDatasetSubset(ds, test_idx, eval=True)\n",
    "\n",
    "        weights_path = os.path.join(\n",
    "            'weights',\n",
    "            f'I{\"-\".join(input_modalities)}_fold{f}.ckpt'\n",
    "        )\n",
    "\n",
    "        pl.utilities.seed.seed_everything(seed+f+734890573)\n",
    "        if do_train:\n",
    "            trainer = train(f, train_ds, test_ds, input_modalities,\n",
    "                prefix = prefix + f'_fold{f}' if prefix else None,\n",
    "                eval_every_epoch=True,\n",
    "                deterministic=deterministic,\n",
    "                weights_path=weights_path)\n",
    "            model = trainer.model\n",
    "        else:\n",
    "            model = System.load_from_checkpoint(checkpoint_path=weights_path)\n",
    "\n",
    "        # ensures that the testing is reproducible regardless of training\n",
    "        pl.utilities.seed.seed_everything(seed+f+2980374334)\n",
    "        fold_outputs = test(f, model, test_ds, prefix = prefix + f'_fold{f}' if prefix else None,)\n",
    "        all_results.append(fold_outputs)\n",
    "        clear_output(wait=False)\n",
    "\n",
    "    outputs = [r['proba'].numpy() for r in all_results]\n",
    "    indices = [r['index'].numpy() for r in all_results]\n",
    "    metrics = [r['metric'] for r in all_results]\n",
    "    return metrics, outputs, indices"
   ]
  },
  {
   "cell_type": "code",
   "execution_count": 6,
   "metadata": {},
   "outputs": [],
   "source": [
    "def do_run(examples, input_modalities, \n",
    "    do_train=True, deterministic=True, prefix=''):\n",
    "    ''' train = True will train the models, and requires \n",
    "            model_label_modality = test_label_modality\n",
    "        train = False will load weights to test the models and does not require\n",
    "            model_label_modality = test_label_modality\n",
    "    '''\n",
    "    print(f'Using {len(examples)} examples')\n",
    "\n",
    "    # create the feature datasets\n",
    "    extractors = {}\n",
    "    if 'video' in input_modalities:\n",
    "        videos_path = processed_videos_path # os.path.join(processed_videos_path, 'examples')\n",
    "        extractors['video'] = VideoExtractor(videos_path, transform=get_kinetics_val_transform(8, 256, False))\n",
    "\n",
    "    if 'accel' in input_modalities:\n",
    "        accel_ds_path = os.path.join(processed_accel_path, 'subj_accel_interp.pkl')\n",
    "        extractors['accel'] = AccelExtractor(accel_ds_path)\n",
    "\n",
    "    ds = FatherDataset(examples, extractors, transform=RemoveConfidence())\n",
    "\n",
    "    seed = 22    \n",
    "    metrics, probas, indices = do_cross_validation(\n",
    "        do_train,\n",
    "        ds,\n",
    "        input_modalities=input_modalities,\n",
    "        deterministic=deterministic,\n",
    "        seed=seed,\n",
    "        prefix=f'{prefix}I{\"-\".join(input_modalities)}')\n",
    "\n",
    "    torch.cuda.empty_cache()\n",
    "\n",
    "    return {\n",
    "        'metrics': metrics,\n",
    "        'probas': probas,\n",
    "        'indices': indices,\n",
    "        'seed': seed\n",
    "    }"
   ]
  },
  {
   "cell_type": "code",
   "execution_count": 7,
   "metadata": {},
   "outputs": [],
   "source": [
    "def get_table(do_train=True, deterministic=True):\n",
    "    examples = pickle.load(open(examples_path, 'rb'))\n",
    "\n",
    "    all_input_modalities = [\n",
    "        ('video',),\n",
    "        # ('poses',),\n",
    "        # ('accel',),\n",
    "    ]    \n",
    "\n",
    "    res = {}\n",
    "    for input_modalities in all_input_modalities:\n",
    "\n",
    "        run_results = do_run(\n",
    "            examples, \n",
    "            input_modalities, \n",
    "            do_train=do_train,\n",
    "            deterministic=deterministic)\n",
    "\n",
    "        res['-'.join(input_modalities)] = run_results\n",
    "    return res"
   ]
  },
  {
   "cell_type": "code",
   "execution_count": 8,
   "metadata": {},
   "outputs": [],
   "source": [
    "try:\n",
    "    res = get_table(do_train=True, deterministic=False)\n",
    "except Exception:\n",
    "    print(traceback.format_exc())"
   ]
  },
  {
   "cell_type": "code",
   "execution_count": 12,
   "metadata": {},
   "outputs": [
    {
     "data": {
      "text/plain": [
       "{'poses': {'metrics': [0.5912555928464226],\n",
       "  'probas': [array([[-0.88281935, -0.8496961 , -0.816506  , ..., -0.7836585 ,\n",
       "           -0.7398186 , -0.6024262 ],\n",
       "          [-0.8199747 , -0.79450303, -0.7811566 , ..., -0.6872438 ,\n",
       "           -0.6989202 , -0.4826259 ],\n",
       "          [-0.6740388 , -0.72466534, -0.76161736, ..., -0.26331377,\n",
       "           -0.266133  , -0.28297275],\n",
       "          ...,\n",
       "          [-2.5501676 , -2.4198594 , -2.6573935 , ..., -2.846579  ,\n",
       "           -2.5305772 , -2.289178  ],\n",
       "          [-2.2257392 , -2.1153748 , -2.3338811 , ..., -2.743276  ,\n",
       "           -2.4590673 , -2.2525878 ],\n",
       "          [-2.4863722 , -2.2748914 , -2.463201  , ..., -3.5208306 ,\n",
       "           -3.1582515 , -2.9559388 ]], dtype=float32)],\n",
       "  'indices': [array([  747,   748,   749, ..., 16092, 16093, 16094])],\n",
       "  'seed': 22}}"
      ]
     },
     "execution_count": 12,
     "metadata": {},
     "output_type": "execute_result"
    }
   ],
   "source": [
    "res"
   ]
  },
  {
   "cell_type": "code",
   "execution_count": null,
   "metadata": {},
   "outputs": [],
   "source": []
  },
  {
   "cell_type": "code",
   "execution_count": 9,
   "metadata": {},
   "outputs": [
    {
     "data": {
      "text/plain": [
       "{'poses': {'metrics': [0.5912555928464226],\n",
       "  'probas': [array([[-0.88281935, -0.8496961 , -0.816506  , ..., -0.7836585 ,\n",
       "           -0.7398186 , -0.6024262 ],\n",
       "          [-0.8199747 , -0.79450303, -0.7811566 , ..., -0.6872438 ,\n",
       "           -0.6989202 , -0.4826259 ],\n",
       "          [-0.6740388 , -0.72466534, -0.76161736, ..., -0.26331377,\n",
       "           -0.266133  , -0.28297275],\n",
       "          ...,\n",
       "          [-2.5501676 , -2.4198594 , -2.6573935 , ..., -2.846579  ,\n",
       "           -2.5305772 , -2.289178  ],\n",
       "          [-2.2257392 , -2.1153748 , -2.3338811 , ..., -2.743276  ,\n",
       "           -2.4590673 , -2.2525878 ],\n",
       "          [-2.4863722 , -2.2748914 , -2.463201  , ..., -3.5208306 ,\n",
       "           -3.1582515 , -2.9559388 ]], dtype=float32)],\n",
       "  'indices': [array([  747,   748,   749, ..., 16092, 16093, 16094])],\n",
       "  'seed': 22}}"
      ]
     },
     "execution_count": 9,
     "metadata": {},
     "output_type": "execute_result"
    }
   ],
   "source": [
    "res"
   ]
  },
  {
   "cell_type": "code",
   "execution_count": null,
   "metadata": {},
   "outputs": [],
   "source": []
  },
  {
   "cell_type": "code",
   "execution_count": null,
   "metadata": {},
   "outputs": [],
   "source": []
  },
  {
   "cell_type": "code",
   "execution_count": null,
   "metadata": {},
   "outputs": [],
   "source": []
  },
  {
   "cell_type": "code",
   "execution_count": null,
   "metadata": {},
   "outputs": [],
   "source": []
  },
  {
   "cell_type": "code",
   "execution_count": null,
   "metadata": {},
   "outputs": [],
   "source": []
  },
  {
   "cell_type": "code",
   "execution_count": null,
   "metadata": {},
   "outputs": [],
   "source": []
  },
  {
   "cell_type": "code",
   "execution_count": null,
   "metadata": {},
   "outputs": [],
   "source": []
  },
  {
   "cell_type": "code",
   "execution_count": null,
   "metadata": {},
   "outputs": [],
   "source": []
  },
  {
   "cell_type": "code",
   "execution_count": null,
   "metadata": {},
   "outputs": [],
   "source": []
  },
  {
   "cell_type": "code",
   "execution_count": null,
   "metadata": {},
   "outputs": [],
   "source": []
  },
  {
   "cell_type": "code",
   "execution_count": null,
   "metadata": {},
   "outputs": [],
   "source": []
  },
  {
   "cell_type": "code",
   "execution_count": null,
   "metadata": {},
   "outputs": [],
   "source": []
  }
 ],
 "metadata": {
  "kernelspec": {
   "display_name": "lared",
   "language": "python",
   "name": "python3"
  },
  "language_info": {
   "codemirror_mode": {
    "name": "ipython",
    "version": 3
   },
   "file_extension": ".py",
   "mimetype": "text/x-python",
   "name": "python",
   "nbconvert_exporter": "python",
   "pygments_lexer": "ipython3",
   "version": "3.8.10"
  },
  "orig_nbformat": 4,
  "vscode": {
   "interpreter": {
    "hash": "625f0d02e4525f9d8dd198038e9533cf1c9aff6967cebded6cec28ca7e147c07"
   }
  }
 },
 "nbformat": 4,
 "nbformat_minor": 2
}
