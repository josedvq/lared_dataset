{
 "cells": [
  {
   "cell_type": "code",
   "execution_count": 1,
   "metadata": {},
   "outputs": [],
   "source": [
    "%load_ext autoreload\n",
    "%autoreload 2"
   ]
  },
  {
   "cell_type": "code",
   "execution_count": 2,
   "metadata": {},
   "outputs": [],
   "source": [
    "import os\n",
    "import sys\n",
    "import logging\n",
    "import pickle\n",
    "import traceback"
   ]
  },
  {
   "cell_type": "code",
   "execution_count": 3,
   "metadata": {},
   "outputs": [],
   "source": [
    "import torch\n",
    "\n",
    "import numpy as np\n",
    "import pandas as pd\n",
    "from sklearn.model_selection import KFold, GroupKFold\n",
    "from IPython.display import clear_output\n",
    "import pytorch_lightning as pl\n",
    "logging.getLogger(\"pytorch_lightning\").setLevel(logging.WARNING)\n",
    "# set the cudnn\n",
    "torch.backends.cudnn.benchmark=False\n",
    "torch.backends.cudnn.deterministic=True"
   ]
  },
  {
   "cell_type": "code",
   "execution_count": 4,
   "metadata": {},
   "outputs": [],
   "source": [
    "from lared_dataset.data_loading.dataset import FatherDataset, FatherDatasetSubset\n",
    "from lared_dataset.data_loading.extractors import VideoExtractor, AccelExtractor\n",
    "from lared_dataset.baselines.video.models import make_slow_pretrained_body as get_video_feature_extractor\n",
    "from lared_dataset.baselines.video.transforms import get_kinetics_val_transform\n",
    "from lared_dataset.constants import (\n",
    "    processed_data_path, \n",
    "    processed_accel_path,\n",
    "    processed_videos_path,\n",
    "    examples_path)\n",
    "from lared_dataset.baselines.train import System, train, test"
   ]
  },
  {
   "cell_type": "code",
   "execution_count": 5,
   "metadata": {},
   "outputs": [],
   "source": [
    "def do_cross_validation(do_train, ds, input_modalities, seed, prefix=None, first_fold_only=False, deterministic=False):\n",
    "    \n",
    "    cv_splits = list(GroupKFold(n_splits=3).split(range(len(ds)), groups=ds.get_groups()))\n",
    "    \n",
    "    if first_fold_only:\n",
    "        # only do first fold\n",
    "        cv_splits = [cv_splits[0]]\n",
    "    else:\n",
    "        # skip the first fold\n",
    "        cv_splits = cv_splits[1:]\n",
    "\n",
    "    all_results = []\n",
    "    for f, (train_idx, test_idx) in enumerate(cv_splits):\n",
    "        # load feature caches for fold f\n",
    "        train_ds = FatherDatasetSubset(ds, train_idx, eval=False)\n",
    "        test_ds = FatherDatasetSubset(ds, test_idx, eval=True)\n",
    "\n",
    "        weights_path = os.path.join(\n",
    "            'weights',\n",
    "            f'I{\"-\".join(input_modalities)}_fold{f}.ckpt'\n",
    "        )\n",
    "\n",
    "        pl.utilities.seed.seed_everything(seed+f+734890573)\n",
    "        if do_train:\n",
    "            trainer = train(f, train_ds, test_ds, input_modalities,\n",
    "                prefix = prefix + f'_fold{f}' if prefix else None,\n",
    "                eval_every_epoch=first_fold_only,\n",
    "                deterministic=deterministic,\n",
    "                weights_path=weights_path)\n",
    "            model = trainer.model\n",
    "        else:\n",
    "            model = System.load_from_checkpoint(checkpoint_path=weights_path)\n",
    "\n",
    "        # ensures that the testing is reproducible regardless of training\n",
    "        pl.utilities.seed.seed_everything(seed+f+2980374334)\n",
    "        fold_outputs = test(f, model, test_ds, prefix = prefix + f'_fold{f}' if prefix else None,)\n",
    "        all_results.append(fold_outputs)\n",
    "        clear_output(wait=False)\n",
    "\n",
    "    outputs = [r['proba'].numpy() for r in all_results]\n",
    "    indices = [r['index'].numpy() for r in all_results]\n",
    "    metrics = [r['metric'] for r in all_results]\n",
    "    return metrics, outputs, indices"
   ]
  },
  {
   "cell_type": "code",
   "execution_count": 6,
   "metadata": {},
   "outputs": [],
   "source": [
    "def do_run(examples, input_modalities, \n",
    "    do_train=True, first_fold_only=False, deterministic=True, prefix=''):\n",
    "    ''' train = True will train the models, and requires \n",
    "            model_label_modality = test_label_modality\n",
    "        train = False will load weights to test the models and does not require\n",
    "            model_label_modality = test_label_modality\n",
    "    '''\n",
    "    print(f'Using {len(examples)} examples')\n",
    "\n",
    "    # create the feature datasets\n",
    "    extractors = {}\n",
    "    if 'video' in input_modalities:\n",
    "        videos_path = os.path.join(processed_videos_path, 'examples')\n",
    "        extractors['video'] = VideoExtractor(videos_path, transform=get_kinetics_val_transform(8, 256, False))\n",
    "\n",
    "    if 'accel' in input_modalities:\n",
    "        accel_ds_path = os.path.join(processed_accel_path, 'subj_accel_interp.pkl')\n",
    "        extractors['accel'] = AccelExtractor(accel_ds_path)\n",
    "\n",
    "    ds = FatherDataset(examples, extractors)\n",
    "\n",
    "    seed = 22    \n",
    "    metrics, probas, indices = do_cross_validation(\n",
    "        do_train,\n",
    "        ds,\n",
    "        first_fold_only=first_fold_only,\n",
    "        input_modalities=input_modalities,\n",
    "        deterministic=deterministic,\n",
    "        seed=seed,\n",
    "        prefix=f'{prefix}I{\"-\".join(input_modalities)}')\n",
    "\n",
    "    torch.cuda.empty_cache()\n",
    "\n",
    "    return {\n",
    "        'metrics': metrics,\n",
    "        'probas': probas,\n",
    "        'indices': indices,\n",
    "        'seed': seed\n",
    "    }"
   ]
  },
  {
   "cell_type": "code",
   "execution_count": 7,
   "metadata": {},
   "outputs": [],
   "source": [
    "def get_table(first_fold_only=False, do_train=True, deterministic=True):\n",
    "    examples = pickle.load(open(examples_path, 'rb'))\n",
    "\n",
    "    all_input_modalities = [\n",
    "        # ('video',),\n",
    "        # ('pose',),\n",
    "        ('accel',),\n",
    "    ]    \n",
    "\n",
    "    res = {}\n",
    "    for input_modalities in all_input_modalities:\n",
    "\n",
    "        run_results = do_run(\n",
    "            examples, \n",
    "            input_modalities, \n",
    "            do_train=do_train,\n",
    "            first_fold_only=first_fold_only,\n",
    "            deterministic=deterministic)\n",
    "\n",
    "        res['-'.join(input_modalities)] = run_results\n",
    "    return res"
   ]
  },
  {
   "cell_type": "code",
   "execution_count": 8,
   "metadata": {},
   "outputs": [],
   "source": [
    "try:\n",
    "    res = get_table(first_fold_only=True, do_train=True, deterministic=False)\n",
    "except Exception:\n",
    "    print(traceback.format_exc())"
   ]
  },
  {
   "cell_type": "code",
   "execution_count": null,
   "metadata": {},
   "outputs": [],
   "source": []
  },
  {
   "cell_type": "code",
   "execution_count": null,
   "metadata": {},
   "outputs": [],
   "source": []
  },
  {
   "cell_type": "code",
   "execution_count": null,
   "metadata": {},
   "outputs": [],
   "source": []
  },
  {
   "cell_type": "code",
   "execution_count": null,
   "metadata": {},
   "outputs": [],
   "source": []
  },
  {
   "cell_type": "code",
   "execution_count": 10,
   "metadata": {},
   "outputs": [
    {
     "ename": "NameError",
     "evalue": "name 'res2' is not defined",
     "output_type": "error",
     "traceback": [
      "\u001b[0;31m---------------------------------------------------------------------------\u001b[0m",
      "\u001b[0;31mNameError\u001b[0m                                 Traceback (most recent call last)",
      "\u001b[1;32m/mnt/c/Users/Jose/Documents/furnace/lared_dataset/baselines/train.ipynb Cell 10\u001b[0m in \u001b[0;36m<cell line: 1>\u001b[0;34m()\u001b[0m\n\u001b[0;32m----> <a href='vscode-notebook-cell://wsl%2Bubuntu/mnt/c/Users/Jose/Documents/furnace/lared_dataset/baselines/train.ipynb#X11sdnNjb2RlLXJlbW90ZQ%3D%3D?line=0'>1</a>\u001b[0m pickle\u001b[39m.\u001b[39mdump(res2, \u001b[39mopen\u001b[39m(\u001b[39m'\u001b[39m\u001b[39mresults/segmentation.pkl\u001b[39m\u001b[39m'\u001b[39m, \u001b[39m'\u001b[39m\u001b[39mwb\u001b[39m\u001b[39m'\u001b[39m))\n",
      "\u001b[0;31mNameError\u001b[0m: name 'res2' is not defined"
     ]
    }
   ],
   "source": [
    "pickle.dump(res, open('results/segmentation.pkl', 'wb'))"
   ]
  },
  {
   "cell_type": "code",
   "execution_count": null,
   "metadata": {},
   "outputs": [],
   "source": []
  },
  {
   "cell_type": "code",
   "execution_count": null,
   "metadata": {},
   "outputs": [],
   "source": []
  },
  {
   "cell_type": "code",
   "execution_count": null,
   "metadata": {},
   "outputs": [],
   "source": []
  },
  {
   "cell_type": "code",
   "execution_count": null,
   "metadata": {},
   "outputs": [],
   "source": []
  },
  {
   "cell_type": "code",
   "execution_count": null,
   "metadata": {},
   "outputs": [],
   "source": []
  },
  {
   "cell_type": "code",
   "execution_count": null,
   "metadata": {},
   "outputs": [],
   "source": []
  },
  {
   "cell_type": "code",
   "execution_count": null,
   "metadata": {},
   "outputs": [],
   "source": []
  },
  {
   "cell_type": "code",
   "execution_count": null,
   "metadata": {},
   "outputs": [],
   "source": []
  },
  {
   "cell_type": "code",
   "execution_count": null,
   "metadata": {},
   "outputs": [],
   "source": []
  }
 ],
 "metadata": {
  "kernelspec": {
   "display_name": "Python 3.8.13 ('base')",
   "language": "python",
   "name": "python3"
  },
  "language_info": {
   "codemirror_mode": {
    "name": "ipython",
    "version": 3
   },
   "file_extension": ".py",
   "mimetype": "text/x-python",
   "name": "python",
   "nbconvert_exporter": "python",
   "pygments_lexer": "ipython3",
   "version": "3.8.13"
  },
  "orig_nbformat": 4,
  "vscode": {
   "interpreter": {
    "hash": "7ff63645dd16f55240e07095d3c46f4fac3f89ef16802cfaceca713f6cf38dfb"
   }
  }
 },
 "nbformat": 4,
 "nbformat_minor": 2
}
