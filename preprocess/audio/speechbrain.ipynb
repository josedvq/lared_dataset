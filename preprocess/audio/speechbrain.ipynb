{
 "cells": [
  {
   "cell_type": "code",
   "execution_count": 1,
   "metadata": {},
   "outputs": [],
   "source": [
    "import os\n",
    "import numpy as np\n",
    "import torch\n",
    "import pickle\n",
    "from pathlib import Path\n",
    "from scipy.io import wavfile\n",
    "import speechbrain as sb\n",
    "from speechbrain.dataio.dataio import read_audio\n",
    "from IPython.display import Audio\n",
    "from scipy.io.wavfile import write as wavwrite\n",
    "from tqdm.notebook import tqdm, trange"
   ]
  },
  {
   "cell_type": "code",
   "execution_count": 2,
   "metadata": {},
   "outputs": [],
   "source": [
    "from speechbrain.pretrained import SepformerSeparation as separator\n",
    "import torchaudio\n",
    "from lared_dataset.constants import (processed_audio_path)\n"
   ]
  },
  {
   "cell_type": "code",
   "execution_count": 3,
   "metadata": {},
   "outputs": [],
   "source": [
    "fs = 8000\n",
    "valid_segments_ms = pickle.load(open('./valid_audio_segments.pkl', 'rb'))\n",
    "valid_segments_ms = [el[1] for el in valid_segments_ms]\n",
    "valid_segments_ms = {el[0]: (el[1], el[2]) for el in valid_segments_ms}"
   ]
  },
  {
   "cell_type": "code",
   "execution_count": 4,
   "metadata": {},
   "outputs": [],
   "source": [
    "run_opts = {\"device\": \"cuda\"}\n",
    "model = separator.from_hparams(source=\"speechbrain/sepformer-whamr-enhancement\", savedir='pretrained_models/sepformer-whamr-enhancement', run_opts=run_opts)\n",
    "\n",
    "audios_path = os.path.join(processed_audio_path, 'normalized')\n",
    "output_path = os.path.join(processed_audio_path, 'denoised')\n",
    "audio_path = os.path.join(processed_audio_path, 'samples/7.wav')"
   ]
  },
  {
   "cell_type": "code",
   "execution_count": 5,
   "metadata": {},
   "outputs": [],
   "source": [
    "def denoise_file(fpath, window_len=60):\n",
    "    batch, fs_file = torchaudio.load(fpath)\n",
    "    pid = int(Path(fpath).stem)\n",
    "    pid_valid_seg = valid_segments_ms[pid]\n",
    "    batch = batch.to(model.device)\n",
    "    fs_model = model.hparams.sample_rate\n",
    "\n",
    "    tf = torchaudio.transforms.Resample(\n",
    "        orig_freq=fs_file, new_freq=fs_model\n",
    "    ).to(model.device)\n",
    "    batch = batch.mean(dim=0, keepdim=True)\n",
    "    batch = tf(batch)\n",
    "\n",
    "    all = []\n",
    "    # cnt = 0\n",
    "    for ini_time in trange(0, batch.shape[1] // fs, window_len):\n",
    "        end_time = ini_time + window_len\n",
    "\n",
    "        if end_time < pid_valid_seg[0]/1000 or ini_time > pid_valid_seg[1]/1000:\n",
    "            # segment is outside of valid seg\n",
    "            all.append(\n",
    "                torch.zeros((1, window_len * fs))\n",
    "            )\n",
    "        else:\n",
    "            ini = ini_time*fs\n",
    "            end = end_time*fs\n",
    "\n",
    "            all.append(\n",
    "                model.separate_batch(batch[:, ini: end]).cpu().squeeze(dim=2)\n",
    "            )\n",
    "        # cnt += 1\n",
    "        # if cnt == 15:\n",
    "        #     break\n",
    "\n",
    "    res = torch.cat(all, axis=1)\n",
    "    res = (\n",
    "        res / res.abs().max(dim=1, keepdim=True)[0]\n",
    "    )\n",
    "    return res.numpy()"
   ]
  },
  {
   "cell_type": "code",
   "execution_count": 6,
   "metadata": {},
   "outputs": [],
   "source": [
    "def denoise_and_store(fpath, outpath):\n",
    "    res = denoise_file(fpath).transpose()\n",
    "    wavwrite(outpath, fs, res)"
   ]
  },
  {
   "cell_type": "code",
   "execution_count": 7,
   "metadata": {},
   "outputs": [
    {
     "name": "stdout",
     "output_type": "stream",
     "text": [
      "/mnt/e/data/lared/processed/audio/normalized/1.wav\n"
     ]
    },
    {
     "data": {
      "application/vnd.jupyter.widget-view+json": {
       "model_id": "4a0fc3fba7d245bb84172137383626d7",
       "version_major": 2,
       "version_minor": 0
      },
      "text/plain": [
       "  0%|          | 0/165 [00:00<?, ?it/s]"
      ]
     },
     "metadata": {},
     "output_type": "display_data"
    },
    {
     "name": "stdout",
     "output_type": "stream",
     "text": [
      "/mnt/e/data/lared/processed/audio/normalized/13.wav\n"
     ]
    },
    {
     "data": {
      "application/vnd.jupyter.widget-view+json": {
       "model_id": "d4d829529a9f429197538b4d4053d0c8",
       "version_major": 2,
       "version_minor": 0
      },
      "text/plain": [
       "  0%|          | 0/165 [00:00<?, ?it/s]"
      ]
     },
     "metadata": {},
     "output_type": "display_data"
    },
    {
     "name": "stdout",
     "output_type": "stream",
     "text": [
      "/mnt/e/data/lared/processed/audio/normalized/14.wav\n"
     ]
    },
    {
     "data": {
      "application/vnd.jupyter.widget-view+json": {
       "model_id": "01fe9a60c6d841e2abd90bf1d963ecfe",
       "version_major": 2,
       "version_minor": 0
      },
      "text/plain": [
       "  0%|          | 0/165 [00:00<?, ?it/s]"
      ]
     },
     "metadata": {},
     "output_type": "display_data"
    },
    {
     "name": "stdout",
     "output_type": "stream",
     "text": [
      "/mnt/e/data/lared/processed/audio/normalized/15.wav\n"
     ]
    },
    {
     "data": {
      "application/vnd.jupyter.widget-view+json": {
       "model_id": "b790e7c06d844a3ab49b7dd20fc9a35e",
       "version_major": 2,
       "version_minor": 0
      },
      "text/plain": [
       "  0%|          | 0/165 [00:00<?, ?it/s]"
      ]
     },
     "metadata": {},
     "output_type": "display_data"
    },
    {
     "name": "stdout",
     "output_type": "stream",
     "text": [
      "/mnt/e/data/lared/processed/audio/normalized/20.wav\n"
     ]
    },
    {
     "data": {
      "application/vnd.jupyter.widget-view+json": {
       "model_id": "d6e5c7c454324ead931c7bb7cce4e857",
       "version_major": 2,
       "version_minor": 0
      },
      "text/plain": [
       "  0%|          | 0/165 [00:00<?, ?it/s]"
      ]
     },
     "metadata": {},
     "output_type": "display_data"
    },
    {
     "name": "stdout",
     "output_type": "stream",
     "text": [
      "/mnt/e/data/lared/processed/audio/normalized/21.wav\n"
     ]
    },
    {
     "data": {
      "application/vnd.jupyter.widget-view+json": {
       "model_id": "f107284c047043aaafcb3bf7fdbabb81",
       "version_major": 2,
       "version_minor": 0
      },
      "text/plain": [
       "  0%|          | 0/165 [00:00<?, ?it/s]"
      ]
     },
     "metadata": {},
     "output_type": "display_data"
    },
    {
     "name": "stdout",
     "output_type": "stream",
     "text": [
      "/mnt/e/data/lared/processed/audio/normalized/25.wav\n"
     ]
    },
    {
     "data": {
      "application/vnd.jupyter.widget-view+json": {
       "model_id": "52df4b0551214e7a9e09aaf4762af32d",
       "version_major": 2,
       "version_minor": 0
      },
      "text/plain": [
       "  0%|          | 0/165 [00:00<?, ?it/s]"
      ]
     },
     "metadata": {},
     "output_type": "display_data"
    },
    {
     "name": "stdout",
     "output_type": "stream",
     "text": [
      "/mnt/e/data/lared/processed/audio/normalized/26.wav\n"
     ]
    },
    {
     "data": {
      "application/vnd.jupyter.widget-view+json": {
       "model_id": "28cf2a76a9c0452d93d14874f4b8a3c2",
       "version_major": 2,
       "version_minor": 0
      },
      "text/plain": [
       "  0%|          | 0/165 [00:00<?, ?it/s]"
      ]
     },
     "metadata": {},
     "output_type": "display_data"
    },
    {
     "name": "stdout",
     "output_type": "stream",
     "text": [
      "/mnt/e/data/lared/processed/audio/normalized/29.wav\n"
     ]
    },
    {
     "data": {
      "application/vnd.jupyter.widget-view+json": {
       "model_id": "061b4774623b4eef8ec06f8ad9039aed",
       "version_major": 2,
       "version_minor": 0
      },
      "text/plain": [
       "  0%|          | 0/165 [00:00<?, ?it/s]"
      ]
     },
     "metadata": {},
     "output_type": "display_data"
    },
    {
     "name": "stdout",
     "output_type": "stream",
     "text": [
      "/mnt/e/data/lared/processed/audio/normalized/30.wav\n"
     ]
    },
    {
     "data": {
      "application/vnd.jupyter.widget-view+json": {
       "model_id": "9698666b624a45f3b7d366af570c71ce",
       "version_major": 2,
       "version_minor": 0
      },
      "text/plain": [
       "  0%|          | 0/165 [00:00<?, ?it/s]"
      ]
     },
     "metadata": {},
     "output_type": "display_data"
    },
    {
     "name": "stdout",
     "output_type": "stream",
     "text": [
      "/mnt/e/data/lared/processed/audio/normalized/32.wav\n"
     ]
    },
    {
     "data": {
      "application/vnd.jupyter.widget-view+json": {
       "model_id": "53b74263a7db4392a7164754655daead",
       "version_major": 2,
       "version_minor": 0
      },
      "text/plain": [
       "  0%|          | 0/165 [00:00<?, ?it/s]"
      ]
     },
     "metadata": {},
     "output_type": "display_data"
    },
    {
     "name": "stdout",
     "output_type": "stream",
     "text": [
      "/mnt/e/data/lared/processed/audio/normalized/4.wav\n"
     ]
    },
    {
     "data": {
      "application/vnd.jupyter.widget-view+json": {
       "model_id": "90d7e054c7594ba898a42e0fb2c954e1",
       "version_major": 2,
       "version_minor": 0
      },
      "text/plain": [
       "  0%|          | 0/165 [00:00<?, ?it/s]"
      ]
     },
     "metadata": {},
     "output_type": "display_data"
    },
    {
     "name": "stdout",
     "output_type": "stream",
     "text": [
      "/mnt/e/data/lared/processed/audio/normalized/45.wav\n"
     ]
    },
    {
     "data": {
      "application/vnd.jupyter.widget-view+json": {
       "model_id": "2438ffb552da4f3c826209715b86fa51",
       "version_major": 2,
       "version_minor": 0
      },
      "text/plain": [
       "  0%|          | 0/165 [00:00<?, ?it/s]"
      ]
     },
     "metadata": {},
     "output_type": "display_data"
    },
    {
     "name": "stdout",
     "output_type": "stream",
     "text": [
      "/mnt/e/data/lared/processed/audio/normalized/9.wav\n"
     ]
    },
    {
     "data": {
      "application/vnd.jupyter.widget-view+json": {
       "model_id": "3a73ea23ab1b492694174f91f26c8529",
       "version_major": 2,
       "version_minor": 0
      },
      "text/plain": [
       "  0%|          | 0/165 [00:00<?, ?it/s]"
      ]
     },
     "metadata": {},
     "output_type": "display_data"
    }
   ],
   "source": [
    "for fpath in Path(audios_path).glob('*.wav'):\n",
    "    print(fpath)\n",
    "    out_path = os.path.join(output_path, fpath.name)\n",
    "    denoise_and_store(fpath, out_path)"
   ]
  },
  {
   "cell_type": "code",
   "execution_count": null,
   "metadata": {},
   "outputs": [],
   "source": []
  },
  {
   "cell_type": "code",
   "execution_count": null,
   "metadata": {},
   "outputs": [],
   "source": []
  },
  {
   "cell_type": "code",
   "execution_count": null,
   "metadata": {},
   "outputs": [],
   "source": []
  },
  {
   "cell_type": "code",
   "execution_count": null,
   "metadata": {},
   "outputs": [],
   "source": []
  }
 ],
 "metadata": {
  "kernelspec": {
   "display_name": "Python 3.8.13 ('base')",
   "language": "python",
   "name": "python3"
  },
  "language_info": {
   "codemirror_mode": {
    "name": "ipython",
    "version": 3
   },
   "file_extension": ".py",
   "mimetype": "text/x-python",
   "name": "python",
   "nbconvert_exporter": "python",
   "pygments_lexer": "ipython3",
   "version": "3.8.13"
  },
  "orig_nbformat": 4,
  "vscode": {
   "interpreter": {
    "hash": "7ff63645dd16f55240e07095d3c46f4fac3f89ef16802cfaceca713f6cf38dfb"
   }
  }
 },
 "nbformat": 4,
 "nbformat_minor": 2
}
