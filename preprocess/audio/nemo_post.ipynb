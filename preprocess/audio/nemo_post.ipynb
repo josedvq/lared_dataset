{
 "cells": [
  {
   "cell_type": "code",
   "execution_count": 1,
   "metadata": {},
   "outputs": [],
   "source": [
    "import os\n",
    "\n",
    "import numpy as np\n",
    "import pandas as pd\n",
    "from scipy.io.wavfile import write as wavwrite, read as wavread\n",
    "from lared_dataset.constants import (processed_audio_path)"
   ]
  },
  {
   "cell_type": "code",
   "execution_count": 2,
   "metadata": {},
   "outputs": [],
   "source": [
    "denoised_audio_path = os.path.join(processed_audio_path, 'denoised')\n",
    "redacted_audio_path = os.path.join(processed_audio_path, 'redacted')\n",
    "diarizations_path = os.path.join(processed_audio_path, 'diarization')\n",
    "vad_path = os.path.join(processed_audio_path, 'vad')"
   ]
  },
  {
   "cell_type": "code",
   "execution_count": 3,
   "metadata": {},
   "outputs": [],
   "source": [
    "def load_diarization(fpath):\n",
    "    return pd.read_csv(fpath, \n",
    "        header=None, \n",
    "        names=['x', 'y', 'z', 'ini', 'dur', 'n1', 'n2', 'speaker', 'n3', 'n4'], \n",
    "        usecols=['ini', 'dur','speaker'],\n",
    "        delim_whitespace=True, \n",
    "        index_col=False)"
   ]
  },
  {
   "cell_type": "code",
   "execution_count": 4,
   "metadata": {},
   "outputs": [],
   "source": [
    "d = load_diarization(os.path.join(diarizations_path, '7.rttm'))\n",
    "row = d.iloc[7,:]"
   ]
  },
  {
   "cell_type": "code",
   "execution_count": 5,
   "metadata": {},
   "outputs": [
    {
     "data": {
      "text/plain": [
       "'1'"
      ]
     },
     "execution_count": 5,
     "metadata": {},
     "output_type": "execute_result"
    }
   ],
   "source": [
    "row['speaker'].split('_')[1]"
   ]
  },
  {
   "cell_type": "code",
   "execution_count": null,
   "metadata": {},
   "outputs": [],
   "source": []
  },
  {
   "cell_type": "code",
   "execution_count": 6,
   "metadata": {},
   "outputs": [
    {
     "data": {
      "text/html": [
       "<div>\n",
       "<style scoped>\n",
       "    .dataframe tbody tr th:only-of-type {\n",
       "        vertical-align: middle;\n",
       "    }\n",
       "\n",
       "    .dataframe tbody tr th {\n",
       "        vertical-align: top;\n",
       "    }\n",
       "\n",
       "    .dataframe thead th {\n",
       "        text-align: right;\n",
       "    }\n",
       "</style>\n",
       "<table border=\"1\" class=\"dataframe\">\n",
       "  <thead>\n",
       "    <tr style=\"text-align: right;\">\n",
       "      <th></th>\n",
       "      <th>ini</th>\n",
       "      <th>dur</th>\n",
       "      <th>speaker</th>\n",
       "    </tr>\n",
       "  </thead>\n",
       "  <tbody>\n",
       "    <tr>\n",
       "      <th>0</th>\n",
       "      <td>786.38</td>\n",
       "      <td>0.67</td>\n",
       "      <td>speaker_1</td>\n",
       "    </tr>\n",
       "    <tr>\n",
       "      <th>1</th>\n",
       "      <td>787.42</td>\n",
       "      <td>0.91</td>\n",
       "      <td>speaker_1</td>\n",
       "    </tr>\n",
       "    <tr>\n",
       "      <th>2</th>\n",
       "      <td>790.30</td>\n",
       "      <td>0.59</td>\n",
       "      <td>speaker_3</td>\n",
       "    </tr>\n",
       "    <tr>\n",
       "      <th>3</th>\n",
       "      <td>792.86</td>\n",
       "      <td>1.47</td>\n",
       "      <td>speaker_1</td>\n",
       "    </tr>\n",
       "    <tr>\n",
       "      <th>4</th>\n",
       "      <td>796.38</td>\n",
       "      <td>1.07</td>\n",
       "      <td>speaker_1</td>\n",
       "    </tr>\n",
       "  </tbody>\n",
       "</table>\n",
       "</div>"
      ],
      "text/plain": [
       "      ini   dur    speaker\n",
       "0  786.38  0.67  speaker_1\n",
       "1  787.42  0.91  speaker_1\n",
       "2  790.30  0.59  speaker_3\n",
       "3  792.86  1.47  speaker_1\n",
       "4  796.38  1.07  speaker_1"
      ]
     },
     "execution_count": 6,
     "metadata": {},
     "output_type": "execute_result"
    }
   ],
   "source": [
    "d.head()"
   ]
  },
  {
   "cell_type": "code",
   "execution_count": 15,
   "metadata": {},
   "outputs": [],
   "source": [
    "main_speakers = {\n",
    "    1: [0],\n",
    "    2: [0],\n",
    "    3: [0],\n",
    "    4: [0],\n",
    "    5: [0],\n",
    "    7: [1,3],\n",
    "    9: [0],\n",
    "    10: [1],\n",
    "    11: [0],\n",
    "    12: [0,1],\n",
    "    13: [1],\n",
    "    14: [1],\n",
    "    15: [0],\n",
    "    16: [0],\n",
    "    17: [0],\n",
    "    18: [0], # fail: two women with same voice\n",
    "    19: [0],\n",
    "    20: [0],\n",
    "    21: [1],\n",
    "    22: [0],\n",
    "    23: [1],\n",
    "    24: [0],\n",
    "    25: [1],\n",
    "    26: [0],\n",
    "    27: [2],\n",
    "    29: [1,3], # check\n",
    "    30: [0,3], # check\n",
    "    31: [0],\n",
    "    32: [0],\n",
    "    33: [0],\n",
    "    34: [0],\n",
    "    35: [1],\n",
    "    45: [0]\n",
    "}"
   ]
  },
  {
   "cell_type": "markdown",
   "metadata": {},
   "source": [
    "# Produce VAD"
   ]
  },
  {
   "cell_type": "code",
   "execution_count": 16,
   "metadata": {},
   "outputs": [],
   "source": [
    "import numpy as np\n",
    "from scipy.io.wavfile import write as wavwrite"
   ]
  },
  {
   "cell_type": "code",
   "execution_count": 17,
   "metadata": {},
   "outputs": [],
   "source": [
    "def make_vad(df: pd.DataFrame, pid, size=9900,  fs=100):\n",
    "    ''' len is in seconds\n",
    "    '''\n",
    "\n",
    "    vad = np.zeros((size*fs))\n",
    "    for idx, row in df.iterrows():\n",
    "        spk = int(row['speaker'].split('_')[1])\n",
    "        if pid in main_speakers and spk not in main_speakers[pid]:\n",
    "            continue\n",
    "        \n",
    "        ini = round(row['ini'] * fs)\n",
    "        end = round((row['ini'] + row['dur']) * fs)\n",
    "        \n",
    "        vad[ini:end] = 1\n",
    "\n",
    "    return vad"
   ]
  },
  {
   "cell_type": "code",
   "execution_count": 18,
   "metadata": {},
   "outputs": [],
   "source": [
    "def store_vad(df: pd.DataFrame, pid, fname, size=9900, fs=100):\n",
    "    vad = make_vad(df, pid, size=size, fs=fs)\n",
    "    # write .vad file\n",
    "    np.savetxt(fname + '.vad', vad, fmt='%d')\n",
    "    # write .wav file\n",
    "    wavwrite(fname + '.wav', fs, vad)\n"
   ]
  },
  {
   "cell_type": "code",
   "execution_count": 19,
   "metadata": {},
   "outputs": [],
   "source": [
    "from pathlib import Path\n",
    "for f in Path(diarizations_path).glob('*.rttm'):\n",
    "    df = load_diarization(f)\n",
    "    pid = int(f.stem)\n",
    "    out_path = os.path.join(vad_path, f.stem)\n",
    "    store_vad(df, pid, out_path)"
   ]
  },
  {
   "cell_type": "code",
   "execution_count": null,
   "metadata": {},
   "outputs": [],
   "source": []
  },
  {
   "cell_type": "markdown",
   "metadata": {},
   "source": [
    "# Redact audio"
   ]
  },
  {
   "cell_type": "code",
   "execution_count": 12,
   "metadata": {},
   "outputs": [],
   "source": [
    "def redact_audio(audio, df, pid, fs=8000):\n",
    "    ''' len is in seconds\n",
    "    '''\n",
    "\n",
    "    new_audio = np.zeros(audio.shape)\n",
    "    for idx, row in df.iterrows():\n",
    "        spk = int(row['speaker'].split('_')[1])\n",
    "        if pid in main_speakers and spk not in main_speakers[pid]:\n",
    "            continue\n",
    "        \n",
    "        ini = round(row['ini'] * fs)\n",
    "        end = round((row['ini'] + row['dur']) * fs)\n",
    "        \n",
    "        new_audio[ini:end] = audio[ini:end]\n",
    "\n",
    "    return new_audio"
   ]
  },
  {
   "cell_type": "code",
   "execution_count": 13,
   "metadata": {},
   "outputs": [],
   "source": [
    "from pathlib import Path\n",
    "for f in Path(diarizations_path).glob('*.rttm'):\n",
    "    df = load_diarization(f)\n",
    "    pid = int(f.stem)\n",
    "    \n",
    "    audio_path = os.path.join(denoised_audio_path, f'{pid}.wav')\n",
    "    out_path = os.path.join(redacted_audio_path, f'{pid}.wav')\n",
    "    \n",
    "    _, audio = wavread(audio_path)\n",
    "    audio = redact_audio(audio, df, pid)\n",
    "    wavwrite(out_path, 8000, audio)"
   ]
  },
  {
   "cell_type": "code",
   "execution_count": null,
   "metadata": {},
   "outputs": [],
   "source": []
  },
  {
   "cell_type": "code",
   "execution_count": null,
   "metadata": {},
   "outputs": [],
   "source": []
  }
 ],
 "metadata": {
  "kernelspec": {
   "display_name": "Python 3.8.13 ('base')",
   "language": "python",
   "name": "python3"
  },
  "language_info": {
   "codemirror_mode": {
    "name": "ipython",
    "version": 3
   },
   "file_extension": ".py",
   "mimetype": "text/x-python",
   "name": "python",
   "nbconvert_exporter": "python",
   "pygments_lexer": "ipython3",
   "version": "3.8.13"
  },
  "orig_nbformat": 4,
  "vscode": {
   "interpreter": {
    "hash": "7ff63645dd16f55240e07095d3c46f4fac3f89ef16802cfaceca713f6cf38dfb"
   }
  }
 },
 "nbformat": 4,
 "nbformat_minor": 2
}
