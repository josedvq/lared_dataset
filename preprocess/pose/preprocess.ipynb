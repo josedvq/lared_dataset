{
 "cells": [
  {
   "cell_type": "code",
   "execution_count": 1,
   "metadata": {},
   "outputs": [],
   "source": [
    "import os\n",
    "import pickle\n",
    "\n",
    "import numpy as np\n",
    "from tqdm.notebook import tqdm\n",
    "\n",
    "from lared_dataset.constants import raw_pose_path, processed_pose_path\n",
    "from lared_dataset.preprocess.pose.frame_poses import FramePoses\n",
    "from lared_dataset.preprocess.pose.utils import (\n",
    "    openpose_keypoints_to_text,\n",
    "    interp_tracks,\n",
    "    convert_to_upper_body,\n",
    "    get_assigned_tracks,\n",
    "    undo_track_interpolation,\n",
    "    filter_joints_inplace_by_confidence,\n",
    "    filter_joints_inplace_by_bone_length,\n",
    "    reset_track_ids,\n",
    "    filter_tracks_by_time,\n",
    "    find_track_by_id)"
   ]
  },
  {
   "cell_type": "code",
   "execution_count": 2,
   "metadata": {},
   "outputs": [],
   "source": [
    "def process_framewise_poses():\n",
    "    for cam in [4]:\n",
    "        source = os.path.join(raw_pose_path, f'cam{cam}')\n",
    "        dest = os.path.join(processed_pose_path, f'cam{cam}.txt')\n",
    "        openpose_keypoints_to_text(source, dest)"
   ]
  },
  {
   "cell_type": "code",
   "execution_count": 3,
   "metadata": {},
   "outputs": [],
   "source": [
    "# process_framewise_poses()"
   ]
  },
  {
   "cell_type": "code",
   "execution_count": 4,
   "metadata": {},
   "outputs": [],
   "source": [
    "def make_tracks_from_poses(poses_path):\n",
    "    poses = FramePoses.from_openpose_text_fast(poses_path)\n",
    "    poses = [j for i in poses for j in i]\n",
    "\n",
    "    active_tracks = list()\n",
    "    tracks = list()\n",
    "    FramePoses.next_id = 0\n",
    "\n",
    "    for i in tqdm(range(0, len(poses))):\n",
    "        fp = FramePoses(poses[i], frame_num=i)\n",
    "        fp.assign_tracks_hungarian(active_tracks, tracks)\n",
    "    # add the tracks that are still active in the end\n",
    "    tracks += active_tracks\n",
    "\n",
    "    # sort by start time / frame\n",
    "    tracks = sorted(tracks, key=lambda x: x['ini'])\n",
    "\n",
    "    # remove the lower body\n",
    "    convert_to_upper_body(tracks)\n",
    "\n",
    "    # keep only tracks longer than 3s\n",
    "    tracks = [t for t in tracks if len(t['poses']) > 3*30]\n",
    "\n",
    "    # interpolate tracks\n",
    "    interp_tracks(tracks)\n",
    "\n",
    "    return tracks\n",
    "\n",
    "def make_all_tracks():\n",
    "    for cam in [2,3]:\n",
    "        source_path = os.path.join(processed_pose_path, f'cam{cam}.txt')\n",
    "        tracks = make_tracks_from_poses(source_path)\n",
    "        dest_path = os.path.join(processed_pose_path, 'tracks', f'cam{cam}_3s.pkl')\n",
    "        pickle.dump(tracks, open(dest_path, \"wb\"))"
   ]
  },
  {
   "cell_type": "code",
   "execution_count": 5,
   "metadata": {},
   "outputs": [],
   "source": [
    "# make_all_tracks()"
   ]
  },
  {
   "cell_type": "markdown",
   "metadata": {},
   "source": [
    "### Process manual track assignment labels"
   ]
  },
  {
   "cell_type": "code",
   "execution_count": 6,
   "metadata": {},
   "outputs": [],
   "source": [
    "def assign_and_filter(tracks, track_assignments):\n",
    "    tracks = get_assigned_tracks(tracks, track_assignments)\n",
    "\n",
    "    tracks = undo_track_interpolation(tracks)\n",
    "\n",
    "    filter_joints_inplace_by_confidence(tracks)\n",
    "\n",
    "    filter_joints_inplace_by_bone_length(tracks)\n",
    "\n",
    "    reset_track_ids(tracks)\n",
    "    tracks = filter_tracks_by_time(tracks)\n",
    "    \n",
    "    return tracks"
   ]
  },
  {
   "cell_type": "code",
   "execution_count": 7,
   "metadata": {},
   "outputs": [],
   "source": [
    "def cam2_corrections(tracks):\n",
    "    ''' Correct manually identified mistakes in cam2 tracks\n",
    "    '''\n",
    "    track = find_track_by_id(tracks,138)\n",
    "    tracks.remove(track)\n",
    "\n",
    "    track = find_track_by_id(tracks,151)\n",
    "    track['pid'] = 3\n",
    "\n",
    "def cam3_corrections(tracks):\n",
    "    ''' Correct manually identified mistakes in cam3 tracks\n",
    "    '''\n",
    "    t = find_track_by_id(tracks, 66)\n",
    "    t['poses'] = t['poses'][150:]\n",
    "\n",
    "    t = find_track_by_id(tracks, 91)\n",
    "    tracks.remove(t)\n",
    "\n",
    "    t = find_track_by_id(tracks, 231)\n",
    "    t['pid'] = 7\n",
    "\n",
    "    t = find_track_by_id(tracks, 261)\n",
    "    t['poses'] = t['poses'][:180]"
   ]
  },
  {
   "cell_type": "code",
   "execution_count": 10,
   "metadata": {},
   "outputs": [],
   "source": [
    "def store_final_tracks():\n",
    "    for cam in [2]:\n",
    "        tracks_path = os.path.join(processed_pose_path, 'tracks', f'cam{cam}.pkl')\n",
    "        assignments_path = os.path.join(processed_pose_path, 'track_assignments', f'cam{cam}_all.pkl')\n",
    "\n",
    "        tracks = pickle.load(open(tracks_path,'rb'))\n",
    "        track_assignments = pickle.load(open(assignments_path,'rb'))\n",
    "\n",
    "        tracks = assign_and_filter(tracks, track_assignments)\n",
    "\n",
    "        if cam == 2:\n",
    "            cam2_corrections(tracks)\n",
    "        if cam == 3:\n",
    "            cam3_corrections(tracks)\n",
    "        \n",
    "        reset_track_ids(tracks)\n",
    "        \n",
    "        dest_path = os.path.join(processed_pose_path, 'tracks', f'cam{cam}_final.pkl')\n",
    "        pickle.dump(tracks, open(dest_path, \"wb\"))"
   ]
  },
  {
   "cell_type": "code",
   "execution_count": 11,
   "metadata": {},
   "outputs": [],
   "source": [
    "store_final_tracks()"
   ]
  },
  {
   "cell_type": "code",
   "execution_count": null,
   "metadata": {},
   "outputs": [],
   "source": []
  }
 ],
 "metadata": {
  "kernelspec": {
   "display_name": "Python 3.8.13 ('base')",
   "language": "python",
   "name": "python3"
  },
  "language_info": {
   "codemirror_mode": {
    "name": "ipython",
    "version": 3
   },
   "file_extension": ".py",
   "mimetype": "text/x-python",
   "name": "python",
   "nbconvert_exporter": "python",
   "pygments_lexer": "ipython3",
   "version": "3.8.13"
  },
  "orig_nbformat": 4,
  "vscode": {
   "interpreter": {
    "hash": "7ff63645dd16f55240e07095d3c46f4fac3f89ef16802cfaceca713f6cf38dfb"
   }
  }
 },
 "nbformat": 4,
 "nbformat_minor": 2
}
