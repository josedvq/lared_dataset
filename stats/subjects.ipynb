{
 "cells": [
  {
   "cell_type": "code",
   "execution_count": 1,
   "metadata": {},
   "outputs": [],
   "source": [
    "import os\n",
    "import pickle"
   ]
  },
  {
   "cell_type": "code",
   "execution_count": 2,
   "metadata": {},
   "outputs": [],
   "source": [
    "import torch\n",
    "import numpy as np\n",
    "import pandas as pd\n",
    "from tqdm.notebook import trange\n",
    "from matplotlib import pyplot as plt\n",
    "import seaborn as sns"
   ]
  },
  {
   "cell_type": "code",
   "execution_count": 3,
   "metadata": {},
   "outputs": [],
   "source": [
    "from lared_dataset.data_loading.utils import get_track_rectangle, tlwh_to_tlbr, enlarge_rectangle\n",
    "from lared_dataset.constants import (\n",
    "    processed_data_path, \n",
    "    processed_accel_path, \n",
    "    processed_videos_path,\n",
    "    examples_path,\n",
    "    vad_path)\n",
    "from utils import load_vad, get_turns, get_turn_lengths_per_subject\n"
   ]
  },
  {
   "cell_type": "markdown",
   "metadata": {},
   "source": [
    "# Dataset stats"
   ]
  },
  {
   "cell_type": "code",
   "execution_count": 4,
   "metadata": {},
   "outputs": [],
   "source": [
    "examples = pickle.load(open(examples_path, 'rb'))\n",
    "accel = pickle.load(open(os.path.join(processed_accel_path, 'subj_accel_interp.pkl'), 'rb'))\n",
    "audio_segs = pickle.load(open('../preprocess/audio/valid_audio_segments.pkl', 'rb'))\n",
    "audio_pids = set([el[1][0] for el in audio_segs])\n",
    "video_pids = set([ex['pid'] for ex in examples])\n",
    "accel_pids = set(list(accel.keys()))"
   ]
  },
  {
   "cell_type": "code",
   "execution_count": 5,
   "metadata": {},
   "outputs": [],
   "source": [
    "union_pids = audio_pids | accel_pids | video_pids"
   ]
  },
  {
   "cell_type": "code",
   "execution_count": 6,
   "metadata": {},
   "outputs": [],
   "source": [
    "df = pd.DataFrame({\n",
    "    pid: {\n",
    "        'Audio': pid in audio_pids,\n",
    "        'Video': pid in video_pids,\n",
    "        'Accel': pid in accel_pids\n",
    "    } for pid in union_pids\n",
    "})"
   ]
  },
  {
   "cell_type": "code",
   "execution_count": 11,
   "metadata": {},
   "outputs": [],
   "source": [
    "vad = load_vad(vad_path)\n",
    "tl_lared = get_turn_lengths_per_subject(vad)\n",
    "speaking_times = {pid: np.sum(tls) for pid, tls in tl_lared.items()}"
   ]
  },
  {
   "cell_type": "code",
   "execution_count": 24,
   "metadata": {},
   "outputs": [
    {
     "data": {
      "text/html": [
       "<div>\n",
       "<style scoped>\n",
       "    .dataframe tbody tr th:only-of-type {\n",
       "        vertical-align: middle;\n",
       "    }\n",
       "\n",
       "    .dataframe tbody tr th {\n",
       "        vertical-align: top;\n",
       "    }\n",
       "\n",
       "    .dataframe thead th {\n",
       "        text-align: right;\n",
       "    }\n",
       "</style>\n",
       "<table border=\"1\" class=\"dataframe\">\n",
       "  <thead>\n",
       "    <tr style=\"text-align: right;\">\n",
       "      <th></th>\n",
       "      <th>1</th>\n",
       "      <th>2</th>\n",
       "      <th>3</th>\n",
       "      <th>4</th>\n",
       "      <th>5</th>\n",
       "      <th>7</th>\n",
       "      <th>9</th>\n",
       "      <th>10</th>\n",
       "      <th>11</th>\n",
       "      <th>12</th>\n",
       "      <th>...</th>\n",
       "      <th>25</th>\n",
       "      <th>26</th>\n",
       "      <th>27</th>\n",
       "      <th>29</th>\n",
       "      <th>30</th>\n",
       "      <th>31</th>\n",
       "      <th>32</th>\n",
       "      <th>33</th>\n",
       "      <th>34</th>\n",
       "      <th>35</th>\n",
       "    </tr>\n",
       "  </thead>\n",
       "  <tbody>\n",
       "    <tr>\n",
       "      <th>0</th>\n",
       "      <td>2720.24</td>\n",
       "      <td>3270.41</td>\n",
       "      <td>3756.28</td>\n",
       "      <td>3146.24</td>\n",
       "      <td>3447.16</td>\n",
       "      <td>4404.55</td>\n",
       "      <td>4790.68</td>\n",
       "      <td>2821.47</td>\n",
       "      <td>2830.53</td>\n",
       "      <td>2626.93</td>\n",
       "      <td>...</td>\n",
       "      <td>4286.39</td>\n",
       "      <td>2735.35</td>\n",
       "      <td>1590.52</td>\n",
       "      <td>2050.18</td>\n",
       "      <td>4568.76</td>\n",
       "      <td>738.23</td>\n",
       "      <td>4887.19</td>\n",
       "      <td>2997.19</td>\n",
       "      <td>2299.24</td>\n",
       "      <td>2756.75</td>\n",
       "    </tr>\n",
       "  </tbody>\n",
       "</table>\n",
       "<p>1 rows × 31 columns</p>\n",
       "</div>"
      ],
      "text/plain": [
       "        1        2        3        4        5        7        9        10  \\\n",
       "0  2720.24  3270.41  3756.28  3146.24  3447.16  4404.55  4790.68  2821.47   \n",
       "\n",
       "        11       12  ...       25       26       27       29       30      31  \\\n",
       "0  2830.53  2626.93  ...  4286.39  2735.35  1590.52  2050.18  4568.76  738.23   \n",
       "\n",
       "        32       33       34       35  \n",
       "0  4887.19  2997.19  2299.24  2756.75  \n",
       "\n",
       "[1 rows x 31 columns]"
      ]
     },
     "execution_count": 24,
     "metadata": {},
     "output_type": "execute_result"
    }
   ],
   "source": [
    "\n"
   ]
  },
  {
   "cell_type": "code",
   "execution_count": 28,
   "metadata": {},
   "outputs": [
    {
     "data": {
      "text/plain": [
       "[[Text(0, 0, ''),\n",
       "  Text(1, 0, ''),\n",
       "  Text(2, 0, ''),\n",
       "  Text(3, 0, ''),\n",
       "  Text(4, 0, ''),\n",
       "  Text(5, 0, ''),\n",
       "  Text(6, 0, ''),\n",
       "  Text(7, 0, ''),\n",
       "  Text(8, 0, ''),\n",
       "  Text(9, 0, ''),\n",
       "  Text(10, 0, ''),\n",
       "  Text(11, 0, ''),\n",
       "  Text(12, 0, ''),\n",
       "  Text(13, 0, ''),\n",
       "  Text(14, 0, ''),\n",
       "  Text(15, 0, ''),\n",
       "  Text(16, 0, ''),\n",
       "  Text(17, 0, ''),\n",
       "  Text(18, 0, ''),\n",
       "  Text(19, 0, ''),\n",
       "  Text(20, 0, ''),\n",
       "  Text(21, 0, ''),\n",
       "  Text(22, 0, ''),\n",
       "  Text(23, 0, ''),\n",
       "  Text(24, 0, ''),\n",
       "  Text(25, 0, ''),\n",
       "  Text(26, 0, ''),\n",
       "  Text(27, 0, ''),\n",
       "  Text(28, 0, ''),\n",
       "  Text(29, 0, ''),\n",
       "  Text(30, 0, '')],\n",
       " Text(0, 0.5, 'Time(s)')]"
      ]
     },
     "execution_count": 28,
     "metadata": {},
     "output_type": "execute_result"
    },
    {
     "data": {
      "image/png": "[encoded data removed]",
      "text/plain": [
       "<Figure size 400x200 with 1 Axes>"
      ]
     },
     "metadata": {},
     "output_type": "display_data"
    }
   ],
   "source": [
    "fig, ax = plt.subplots(figsize=(4, 2))\n",
    "sns.barplot(pd.DataFrame(speaking_times, index=[0]), ax=ax)\n",
    "# sns.heatmap(df, ax=ax2)\n",
    "ax.set(xticklabels=[], xlabel='Subject', ylabel='Time(s)')"
   ]
  },
  {
   "cell_type": "code",
   "execution_count": null,
   "metadata": {},
   "outputs": [],
   "source": []
  },
  {
   "cell_type": "code",
   "execution_count": 12,
   "metadata": {},
   "outputs": [
    {
     "data": {
      "text/plain": [
       "{1: 2720.24,\n",
       " 2: 3270.41,\n",
       " 3: 3756.2799999999997,\n",
       " 4: 3146.2400000000002,\n",
       " 5: 3447.1600000000003,\n",
       " 7: 4404.55,\n",
       " 9: 4790.68,\n",
       " 10: 2821.4700000000003,\n",
       " 11: 2830.5299999999997,\n",
       " 12: 2626.93,\n",
       " 13: 2717.4300000000003,\n",
       " 14: 3413.79,\n",
       " 15: 3741.59,\n",
       " 17: 3389.46,\n",
       " 18: 3220.3999999999996,\n",
       " 19: 1665.56,\n",
       " 20: 5078.820000000001,\n",
       " 21: 6367.75,\n",
       " 22: 3801.7,\n",
       " 23: 4052.6499999999996,\n",
       " 24: 3981.84,\n",
       " 25: 4286.389999999999,\n",
       " 26: 2735.3500000000004,\n",
       " 27: 1590.52,\n",
       " 29: 2050.1800000000003,\n",
       " 30: 4568.76,\n",
       " 31: 738.2299999999999,\n",
       " 32: 4887.1900000000005,\n",
       " 33: 2997.1900000000005,\n",
       " 34: 2299.24,\n",
       " 35: 2756.75}"
      ]
     },
     "execution_count": 12,
     "metadata": {},
     "output_type": "execute_result"
    }
   ],
   "source": [
    "speaking_times"
   ]
  },
  {
   "cell_type": "code",
   "execution_count": 32,
   "metadata": {},
   "outputs": [
    {
     "data": {
      "text/plain": [
       "<AxesSubplot: >"
      ]
     },
     "execution_count": 32,
     "metadata": {},
     "output_type": "execute_result"
    },
    {
     "data": {
      "image/png": "[encoded data removed]",
      "text/plain": [
       "<Figure size 640x480 with 2 Axes>"
      ]
     },
     "metadata": {},
     "output_type": "display_data"
    }
   ],
   "source": []
  },
  {
   "cell_type": "code",
   "execution_count": 20,
   "metadata": {},
   "outputs": [
    {
     "name": "stdout",
     "output_type": "stream",
     "text": [
      "{2, 3, 4, 5, 7, 10, 11, 12, 14, 15, 16, 17, 18, 19, 22, 23, 24, 26, 27, 30, 31, 32, 33, 34, 35}\n"
     ]
    }
   ],
   "source": [
    "print(accel_pids)\n"
   ]
  },
  {
   "cell_type": "code",
   "execution_count": 37,
   "metadata": {},
   "outputs": [],
   "source": [
    "intersection_pids = [pid for pid in video_pids if pid in accel_pids]"
   ]
  },
  {
   "cell_type": "code",
   "execution_count": null,
   "metadata": {},
   "outputs": [],
   "source": []
  },
  {
   "cell_type": "code",
   "execution_count": 38,
   "metadata": {},
   "outputs": [
    {
     "data": {
      "text/plain": [
       "18"
      ]
     },
     "execution_count": 38,
     "metadata": {},
     "output_type": "execute_result"
    }
   ],
   "source": [
    "len(intersection_pids)"
   ]
  },
  {
   "cell_type": "code",
   "execution_count": 39,
   "metadata": {},
   "outputs": [
    {
     "data": {
      "text/plain": [
       "[33, 2, 3, 35, 34, 5, 7, 10, 11, 12, 17, 18, 19, 22, 23, 24, 27, 31]"
      ]
     },
     "execution_count": 39,
     "metadata": {},
     "output_type": "execute_result"
    }
   ],
   "source": [
    "intersection_pids"
   ]
  },
  {
   "cell_type": "code",
   "execution_count": 40,
   "metadata": {},
   "outputs": [
    {
     "ename": "NameError",
     "evalue": "name 'pids' is not defined",
     "output_type": "error",
     "traceback": [
      "\u001b[0;31m---------------------------------------------------------------------------\u001b[0m",
      "\u001b[0;31mNameError\u001b[0m                                 Traceback (most recent call last)",
      "\u001b[1;32m/mnt/c/Users/Jose/Documents/furnace/lared_dataset/data_loading/test.ipynb Cell 22\u001b[0m in \u001b[0;36m<cell line: 1>\u001b[0;34m()\u001b[0m\n\u001b[0;32m----> <a href='vscode-notebook-cell://wsl%2Bubuntu/mnt/c/Users/Jose/Documents/furnace/lared_dataset/data_loading/test.ipynb#X30sdnNjb2RlLXJlbW90ZQ%3D%3D?line=0'>1</a>\u001b[0m plt\u001b[39m.\u001b[39mhist(pids)\n",
      "\u001b[0;31mNameError\u001b[0m: name 'pids' is not defined"
     ]
    }
   ],
   "source": [
    "plt.hist(pids)"
   ]
  },
  {
   "cell_type": "code",
   "execution_count": null,
   "metadata": {},
   "outputs": [],
   "source": []
  },
  {
   "cell_type": "code",
   "execution_count": null,
   "metadata": {},
   "outputs": [],
   "source": []
  },
  {
   "cell_type": "code",
   "execution_count": null,
   "metadata": {},
   "outputs": [
    {
     "data": {
      "text/plain": [
       "(array([3929., 2224., 1900.,  825., 1119., 1503., 4902., 3167., 1496.,\n",
       "        1974.]),\n",
       " array([ 1. ,  4.4,  7.8, 11.2, 14.6, 18. , 21.4, 24.8, 28.2, 31.6, 35. ]),\n",
       " <BarContainer object of 10 artists>)"
      ]
     },
     "execution_count": 9,
     "metadata": {},
     "output_type": "execute_result"
    },
    {
     "data": {
      "image/png": "[encoded data removed]",
      "text/plain": [
       "<Figure size 432x288 with 1 Axes>"
      ]
     },
     "metadata": {
      "needs_background": "light"
     },
     "output_type": "display_data"
    }
   ],
   "source": []
  },
  {
   "cell_type": "code",
   "execution_count": null,
   "metadata": {},
   "outputs": [],
   "source": []
  },
  {
   "cell_type": "code",
   "execution_count": null,
   "metadata": {},
   "outputs": [],
   "source": []
  },
  {
   "cell_type": "code",
   "execution_count": null,
   "metadata": {},
   "outputs": [
    {
     "data": {
      "text/plain": [
       "torch.Size([3, 8, 256, 256])"
      ]
     },
     "execution_count": 12,
     "metadata": {},
     "output_type": "execute_result"
    }
   ],
   "source": [
    "ds[0]['video'].shape"
   ]
  },
  {
   "cell_type": "code",
   "execution_count": null,
   "metadata": {},
   "outputs": [],
   "source": []
  },
  {
   "cell_type": "code",
   "execution_count": null,
   "metadata": {},
   "outputs": [
    {
     "data": {
      "application/vnd.jupyter.widget-view+json": {
       "model_id": "43f652ddcac74541868f65d00980bca2",
       "version_major": 2,
       "version_minor": 0
      },
      "text/plain": [
       "  0%|          | 0/23039 [00:00<?, ?it/s]"
      ]
     },
     "metadata": {},
     "output_type": "display_data"
    }
   ],
   "source": []
  },
  {
   "cell_type": "code",
   "execution_count": null,
   "metadata": {},
   "outputs": [],
   "source": []
  },
  {
   "cell_type": "code",
   "execution_count": null,
   "metadata": {},
   "outputs": [],
   "source": []
  },
  {
   "cell_type": "code",
   "execution_count": null,
   "metadata": {},
   "outputs": [],
   "source": []
  },
  {
   "cell_type": "code",
   "execution_count": null,
   "metadata": {},
   "outputs": [],
   "source": []
  },
  {
   "cell_type": "code",
   "execution_count": null,
   "metadata": {},
   "outputs": [],
   "source": []
  },
  {
   "cell_type": "code",
   "execution_count": null,
   "metadata": {},
   "outputs": [],
   "source": []
  }
 ],
 "metadata": {
  "kernelspec": {
   "display_name": "lared",
   "language": "python",
   "name": "python3"
  },
  "language_info": {
   "codemirror_mode": {
    "name": "ipython",
    "version": 3
   },
   "file_extension": ".py",
   "mimetype": "text/x-python",
   "name": "python",
   "nbconvert_exporter": "python",
   "pygments_lexer": "ipython3",
   "version": "3.8.15"
  },
  "orig_nbformat": 4,
  "vscode": {
   "interpreter": {
    "hash": "61c3a99f303fef666190428a5d4f51cee6f7ade5c700108861c8c9988ae228bd"
   }
  }
 },
 "nbformat": 4,
 "nbformat_minor": 2
}
