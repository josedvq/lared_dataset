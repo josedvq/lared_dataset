{
 "cells": [
  {
   "cell_type": "code",
   "execution_count": 1,
   "metadata": {},
   "outputs": [],
   "source": [
    "import os\n",
    "import pandas as pd\n",
    "import numpy as np\n",
    "import matplotlib.pyplot as plt\n",
    "import seaborn as sns\n",
    "from lared_dataset.constants import (\n",
    "    vad_path,\n",
    "    mnm_labels_path)\n",
    "from utils import load_vad, get_turns, get_turn_lengths\n"
   ]
  },
  {
   "cell_type": "code",
   "execution_count": 4,
   "metadata": {},
   "outputs": [],
   "source": []
  },
  {
   "cell_type": "code",
   "execution_count": 20,
   "metadata": {},
   "outputs": [],
   "source": [
    "def get_mnm_turn_lengths():\n",
    "    d = pd.read_csv(mnm_labels_path)\n",
    "    d = d.iloc[:,3::9]\n",
    "\n",
    "    turn_lengths = []\n",
    "    for col in range(d.shape[1]):\n",
    "        turns = get_turns(d.iloc[:,col].to_numpy().squeeze())\n",
    "        for t in turns:\n",
    "            turn_lengths.append((t[1] - t[0]) / 20)\n",
    "\n",
    "    return turn_lengths"
   ]
  },
  {
   "cell_type": "code",
   "execution_count": 21,
   "metadata": {},
   "outputs": [],
   "source": [
    "vad = load_vad(vad_path)\n",
    "tl_lared = get_turn_lengths(vad)\n",
    "\n",
    "tl_mnm = get_mnm_turn_lengths()"
   ]
  },
  {
   "cell_type": "code",
   "execution_count": 38,
   "metadata": {},
   "outputs": [
    {
     "data": {
      "text/plain": [
       "[Text(0.5, 0, 'Time(s)')]"
      ]
     },
     "execution_count": 38,
     "metadata": {},
     "output_type": "execute_result"
    },
    {
     "data": {
      "image/png": "[encoded data removed]",
      "text/plain": [
       "<Figure size 288x144 with 1 Axes>"
      ]
     },
     "metadata": {
      "needs_background": "light"
     },
     "output_type": "display_data"
    }
   ],
   "source": [
    "fig, ax = plt.subplots(figsize=(4, 2))\n",
    "sns.histplot(tl_lared, bins=20, binrange=[0, 5], color=\"skyblue\", stat=\"percent\", label='LaRed', ax=ax)\n",
    "sns.histplot(tl_mnm, bins=20, binrange=[0,5], color=\"orange\", stat=\"percent\", label='MatchNMingle', ax=ax)\n",
    "ax.legend()\n",
    "ax.set(xlabel='Time(s)')"
   ]
  },
  {
   "cell_type": "code",
   "execution_count": 39,
   "metadata": {},
   "outputs": [],
   "source": [
    "fig.savefig('turn_length_distrib.png', dpi=300, bbox_inches='tight')\n"
   ]
  },
  {
   "cell_type": "code",
   "execution_count": null,
   "metadata": {},
   "outputs": [],
   "source": []
  }
 ],
 "metadata": {
  "kernelspec": {
   "display_name": "Python 3",
   "language": "python",
   "name": "python3"
  },
  "language_info": {
   "codemirror_mode": {
    "name": "ipython",
    "version": 3
   },
   "file_extension": ".py",
   "mimetype": "text/x-python",
   "name": "python",
   "nbconvert_exporter": "python",
   "pygments_lexer": "ipython3",
   "version": "3.8.16"
  },
  "orig_nbformat": 4,
  "vscode": {
   "interpreter": {
    "hash": "0adcc2737ebf6a4a119f135174df96668767fca1ef1112612db5ecadf2b6d608"
   }
  }
 },
 "nbformat": 4,
 "nbformat_minor": 2
}
